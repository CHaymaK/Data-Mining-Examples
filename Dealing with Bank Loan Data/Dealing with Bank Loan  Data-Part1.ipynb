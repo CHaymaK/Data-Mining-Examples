{
 "cells": [
  {
   "cell_type": "markdown",
   "metadata": {},
   "source": [
    "## Context about the Problem\n",
    "\n",
    "*Business problem*: A bank is losing money due to high default rate on its loans. When a customer's loan application has been approved but the customer is subsequently unable to re-pay his/her loan (via monthly payments), we say s/he has defaulted. How can the bank reduce its losses/increase its profits?\n",
    "\n",
    "*Available data*: records of previously approved bank loans; some of them defaulted, some didn't. It is reasonable to assume that the records are independent (belong to unrelated people). \n",
    "Objective of data mining project: based on the available data, we will extract a pattern that can predict whether a person will have financial problems in the future that will prevent him/her from paying their loan. Specifically, we will build a classification model. This model will help solve the business problem because it will identify \"bad\" customers in advance and prevent approving their loan application.\n",
    "\n",
    "*Data Understanding*: the data consists of **65,000** previously approved bank loan applications stored in a CSV file. Each application is described by the following **15 attributes** :\n",
    "\n",
    "1. **defaulted**: whether the borrower is more than 90 days late, after 2 years of the loan.  This is the target variable.\n",
    "2. **ID**: Applicant's unique identifier at this bank\n",
    "3. **gender**: whether the applicant is male or female\n",
    "4. **marital_status**: whether the applicant single, married, divorced, or widowed.\n",
    "5. **age_group**: young, middle_aged, senior_citizen\n",
    "6. **age**: applicant's age in number of years.\n",
    "7. **nb_dependents**: Number of family members – people who “depend” on the applicant (spouse, children, parents, etc.)\n",
    "8. **monthly_income**: person's monthly income from various sources (job salary, independent business, etc.)\n",
    "9. **debt_ratio**: total monthly bills divided by monthly income.\n",
    "10. **credit_card_balance_ratio**: Total credit card debt divided by credit limit.\n",
    "11. **nb_open_loans**: Total number of open loans (e.g. car loan, house loan) and credit cards.\n",
    "12. **nb_special_loans**: Number of mortgage and real estate loans ...\n",
    "13. **nb_late_payments_1month**: Number of times the borrower was one month late in making monthly payment during the last 2 years.\n",
    "14. **nb_late_payments_2months**: Number of times the borrower was late by 2-3 months in making monthly payment during the last 2 years.\n",
    "15. **nb_late_payments_3+months**: Number of times the borrower was more than 3 months late in making monthly payment during the last 2 years.\n",
    "\n"
   ]
  },
  {
   "cell_type": "code",
   "execution_count": 90,
   "metadata": {},
   "outputs": [],
   "source": [
    "# import Python libraries we will need later\n",
    "\n",
    "import pandas as pd   \n",
    "import numpy as np    "
   ]
  },
  {
   "cell_type": "markdown",
   "metadata": {},
   "source": [
    "## 1. Exploring the data\n"
   ]
  },
  {
   "cell_type": "code",
   "execution_count": 91,
   "metadata": {},
   "outputs": [
    {
     "data": {
      "text/plain": [
       "(45000, 15)"
      ]
     },
     "execution_count": 91,
     "metadata": {},
     "output_type": "execute_result"
    }
   ],
   "source": [
    "# Change filepath if it is different on your computer\n",
    "filepath = \"bankloans-data-45K.csv\"\n",
    "df = pd.read_csv(filepath)\n",
    "df.shape"
   ]
  },
  {
   "cell_type": "code",
   "execution_count": 92,
   "metadata": {},
   "outputs": [
    {
     "data": {
      "text/html": [
       "<div>\n",
       "<style scoped>\n",
       "    .dataframe tbody tr th:only-of-type {\n",
       "        vertical-align: middle;\n",
       "    }\n",
       "\n",
       "    .dataframe tbody tr th {\n",
       "        vertical-align: top;\n",
       "    }\n",
       "\n",
       "    .dataframe thead th {\n",
       "        text-align: right;\n",
       "    }\n",
       "</style>\n",
       "<table border=\"1\" class=\"dataframe\">\n",
       "  <thead>\n",
       "    <tr style=\"text-align: right;\">\n",
       "      <th></th>\n",
       "      <th>ID</th>\n",
       "      <th>age</th>\n",
       "      <th>age_group</th>\n",
       "      <th>credit_card_balance_ratio</th>\n",
       "      <th>debt_ratio</th>\n",
       "      <th>defaulted</th>\n",
       "      <th>gender</th>\n",
       "      <th>marital_status</th>\n",
       "      <th>monthly_income</th>\n",
       "      <th>nb_dependents</th>\n",
       "      <th>nb_late_payments_1month</th>\n",
       "      <th>nb_late_payments_2months</th>\n",
       "      <th>nb_late_payments_3+months</th>\n",
       "      <th>nb_open_loans</th>\n",
       "      <th>nb_special_loans</th>\n",
       "    </tr>\n",
       "  </thead>\n",
       "  <tbody>\n",
       "    <tr>\n",
       "      <th>0</th>\n",
       "      <td>7763927</td>\n",
       "      <td>43</td>\n",
       "      <td>middle_aged</td>\n",
       "      <td>0.011639</td>\n",
       "      <td>0.053386</td>\n",
       "      <td>1</td>\n",
       "      <td>Male</td>\n",
       "      <td>married</td>\n",
       "      <td>3558.0</td>\n",
       "      <td>2.0</td>\n",
       "      <td>0</td>\n",
       "      <td>0</td>\n",
       "      <td>0</td>\n",
       "      <td>5</td>\n",
       "      <td>0</td>\n",
       "    </tr>\n",
       "    <tr>\n",
       "      <th>1</th>\n",
       "      <td>5620181</td>\n",
       "      <td>32</td>\n",
       "      <td>young</td>\n",
       "      <td>0.031554</td>\n",
       "      <td>0.032146</td>\n",
       "      <td>0</td>\n",
       "      <td>Female</td>\n",
       "      <td>single</td>\n",
       "      <td>6625.0</td>\n",
       "      <td>0.0</td>\n",
       "      <td>0</td>\n",
       "      <td>0</td>\n",
       "      <td>0</td>\n",
       "      <td>3</td>\n",
       "      <td>0</td>\n",
       "    </tr>\n",
       "    <tr>\n",
       "      <th>2</th>\n",
       "      <td>6651247</td>\n",
       "      <td>82</td>\n",
       "      <td>senior</td>\n",
       "      <td>1.000000</td>\n",
       "      <td>1.000000</td>\n",
       "      <td>0</td>\n",
       "      <td>Male</td>\n",
       "      <td>divorced</td>\n",
       "      <td>NaN</td>\n",
       "      <td>0.0</td>\n",
       "      <td>0</td>\n",
       "      <td>0</td>\n",
       "      <td>0</td>\n",
       "      <td>4</td>\n",
       "      <td>0</td>\n",
       "    </tr>\n",
       "    <tr>\n",
       "      <th>3</th>\n",
       "      <td>5222993</td>\n",
       "      <td>29</td>\n",
       "      <td>young</td>\n",
       "      <td>0.006666</td>\n",
       "      <td>4.000000</td>\n",
       "      <td>0</td>\n",
       "      <td>Male</td>\n",
       "      <td>married</td>\n",
       "      <td>NaN</td>\n",
       "      <td>0.0</td>\n",
       "      <td>0</td>\n",
       "      <td>0</td>\n",
       "      <td>0</td>\n",
       "      <td>2</td>\n",
       "      <td>0</td>\n",
       "    </tr>\n",
       "    <tr>\n",
       "      <th>4</th>\n",
       "      <td>5450664</td>\n",
       "      <td>31</td>\n",
       "      <td>young</td>\n",
       "      <td>0.097509</td>\n",
       "      <td>68.000000</td>\n",
       "      <td>0</td>\n",
       "      <td>Female</td>\n",
       "      <td>married</td>\n",
       "      <td>NaN</td>\n",
       "      <td>0.0</td>\n",
       "      <td>0</td>\n",
       "      <td>0</td>\n",
       "      <td>0</td>\n",
       "      <td>7</td>\n",
       "      <td>0</td>\n",
       "    </tr>\n",
       "  </tbody>\n",
       "</table>\n",
       "</div>"
      ],
      "text/plain": [
       "        ID  age    age_group  credit_card_balance_ratio  debt_ratio  \\\n",
       "0  7763927   43  middle_aged                   0.011639    0.053386   \n",
       "1  5620181   32        young                   0.031554    0.032146   \n",
       "2  6651247   82       senior                   1.000000    1.000000   \n",
       "3  5222993   29        young                   0.006666    4.000000   \n",
       "4  5450664   31        young                   0.097509   68.000000   \n",
       "\n",
       "   defaulted  gender marital_status  monthly_income  nb_dependents  \\\n",
       "0          1    Male        married          3558.0            2.0   \n",
       "1          0  Female         single          6625.0            0.0   \n",
       "2          0    Male       divorced             NaN            0.0   \n",
       "3          0    Male        married             NaN            0.0   \n",
       "4          0  Female        married             NaN            0.0   \n",
       "\n",
       "   nb_late_payments_1month  nb_late_payments_2months  \\\n",
       "0                        0                         0   \n",
       "1                        0                         0   \n",
       "2                        0                         0   \n",
       "3                        0                         0   \n",
       "4                        0                         0   \n",
       "\n",
       "   nb_late_payments_3+months  nb_open_loans  nb_special_loans  \n",
       "0                          0              5                 0  \n",
       "1                          0              3                 0  \n",
       "2                          0              4                 0  \n",
       "3                          0              2                 0  \n",
       "4                          0              7                 0  "
      ]
     },
     "execution_count": 92,
     "metadata": {},
     "output_type": "execute_result"
    }
   ],
   "source": [
    "# display first few rows in this DataFrame\n",
    "df.head()"
   ]
  },
  {
   "cell_type": "code",
   "execution_count": 93,
   "metadata": {},
   "outputs": [
    {
     "data": {
      "text/plain": [
       "Index(['ID', 'age', 'age_group', 'credit_card_balance_ratio', 'debt_ratio',\n",
       "       'defaulted', 'gender', 'marital_status', 'monthly_income',\n",
       "       'nb_dependents', 'nb_late_payments_1month', 'nb_late_payments_2months',\n",
       "       'nb_late_payments_3+months', 'nb_open_loans', 'nb_special_loans'],\n",
       "      dtype='object')"
      ]
     },
     "execution_count": 93,
     "metadata": {},
     "output_type": "execute_result"
    }
   ],
   "source": [
    "# get list of column names\n",
    "df.columns"
   ]
  },
  {
   "cell_type": "code",
   "execution_count": 94,
   "metadata": {},
   "outputs": [
    {
     "data": {
      "text/plain": [
       "0     0.053386\n",
       "1     0.032146\n",
       "2     1.000000\n",
       "3     4.000000\n",
       "4    68.000000\n",
       "Name: debt_ratio, dtype: float64"
      ]
     },
     "execution_count": 94,
     "metadata": {},
     "output_type": "execute_result"
    }
   ],
   "source": [
    "# dispay first few values of a particular column  -- notice the CHAINING of function calls\n",
    "df['debt_ratio'].head()\n",
    "df.debt_ratio.head()"
   ]
  },
  {
   "cell_type": "code",
   "execution_count": 95,
   "metadata": {},
   "outputs": [
    {
     "data": {
      "text/plain": [
       "(1014, 15)"
      ]
     },
     "execution_count": 95,
     "metadata": {},
     "output_type": "execute_result"
    }
   ],
   "source": [
    "# select rows that satisfy a logical condition\n",
    "mask = (df.monthly_income > 5000) & (df.defaulted == 1)\n",
    "df3 = df[mask]\n",
    "df3.shape"
   ]
  },
  {
   "cell_type": "code",
   "execution_count": 96,
   "metadata": {},
   "outputs": [
    {
     "data": {
      "text/plain": [
       "array([ 0,  1,  2,  3,  5,  4,  6, 98,  7,  8,  9, 10, 96, 12])"
      ]
     },
     "execution_count": 96,
     "metadata": {},
     "output_type": "execute_result"
    }
   ],
   "source": [
    "# Invalid Values\n",
    "df.nb_late_payments_1month.unique()\n",
    "# Clearly the values 98 and 96 are absurd and probably missing values because this column represents \n",
    "# the Number of times the borrower was one month late in making monthly payment during the last 2 years. \n",
    "# So this value can't be greater than 12"
   ]
  },
  {
   "cell_type": "code",
   "execution_count": 97,
   "metadata": {},
   "outputs": [
    {
     "data": {
      "text/html": [
       "<div>\n",
       "<style scoped>\n",
       "    .dataframe tbody tr th:only-of-type {\n",
       "        vertical-align: middle;\n",
       "    }\n",
       "\n",
       "    .dataframe tbody tr th {\n",
       "        vertical-align: top;\n",
       "    }\n",
       "\n",
       "    .dataframe thead th {\n",
       "        text-align: right;\n",
       "    }\n",
       "</style>\n",
       "<table border=\"1\" class=\"dataframe\">\n",
       "  <thead>\n",
       "    <tr style=\"text-align: right;\">\n",
       "      <th></th>\n",
       "      <th>ID</th>\n",
       "      <th>age</th>\n",
       "      <th>credit_card_balance_ratio</th>\n",
       "      <th>debt_ratio</th>\n",
       "      <th>defaulted</th>\n",
       "      <th>monthly_income</th>\n",
       "      <th>nb_dependents</th>\n",
       "      <th>nb_late_payments_1month</th>\n",
       "      <th>nb_late_payments_2months</th>\n",
       "      <th>nb_late_payments_3+months</th>\n",
       "      <th>nb_open_loans</th>\n",
       "      <th>nb_special_loans</th>\n",
       "    </tr>\n",
       "  </thead>\n",
       "  <tbody>\n",
       "    <tr>\n",
       "      <th>count</th>\n",
       "      <td>4.500000e+04</td>\n",
       "      <td>45000.000000</td>\n",
       "      <td>45000.000000</td>\n",
       "      <td>45000.000000</td>\n",
       "      <td>45000.000000</td>\n",
       "      <td>3.598000e+04</td>\n",
       "      <td>43844.000000</td>\n",
       "      <td>45000.000000</td>\n",
       "      <td>45000.000000</td>\n",
       "      <td>45000.000000</td>\n",
       "      <td>45000.000000</td>\n",
       "      <td>45000.000000</td>\n",
       "    </tr>\n",
       "    <tr>\n",
       "      <th>mean</th>\n",
       "      <td>5.516422e+06</td>\n",
       "      <td>52.282778</td>\n",
       "      <td>5.692377</td>\n",
       "      <td>366.114262</td>\n",
       "      <td>0.066022</td>\n",
       "      <td>6.675478e+03</td>\n",
       "      <td>0.760629</td>\n",
       "      <td>0.416289</td>\n",
       "      <td>0.232911</td>\n",
       "      <td>0.261356</td>\n",
       "      <td>8.436133</td>\n",
       "      <td>1.024778</td>\n",
       "    </tr>\n",
       "    <tr>\n",
       "      <th>std</th>\n",
       "      <td>2.601172e+06</td>\n",
       "      <td>14.750758</td>\n",
       "      <td>208.062208</td>\n",
       "      <td>2504.362003</td>\n",
       "      <td>0.248324</td>\n",
       "      <td>1.359081e+04</td>\n",
       "      <td>1.119370</td>\n",
       "      <td>4.100654</td>\n",
       "      <td>4.060182</td>\n",
       "      <td>4.076032</td>\n",
       "      <td>5.131408</td>\n",
       "      <td>1.124936</td>\n",
       "    </tr>\n",
       "    <tr>\n",
       "      <th>min</th>\n",
       "      <td>1.000102e+06</td>\n",
       "      <td>0.000000</td>\n",
       "      <td>0.000000</td>\n",
       "      <td>0.000000</td>\n",
       "      <td>0.000000</td>\n",
       "      <td>0.000000e+00</td>\n",
       "      <td>0.000000</td>\n",
       "      <td>0.000000</td>\n",
       "      <td>0.000000</td>\n",
       "      <td>0.000000</td>\n",
       "      <td>0.000000</td>\n",
       "      <td>0.000000</td>\n",
       "    </tr>\n",
       "    <tr>\n",
       "      <th>25%</th>\n",
       "      <td>3.267706e+06</td>\n",
       "      <td>41.000000</td>\n",
       "      <td>0.030024</td>\n",
       "      <td>0.176616</td>\n",
       "      <td>0.000000</td>\n",
       "      <td>3.400000e+03</td>\n",
       "      <td>0.000000</td>\n",
       "      <td>0.000000</td>\n",
       "      <td>0.000000</td>\n",
       "      <td>0.000000</td>\n",
       "      <td>5.000000</td>\n",
       "      <td>0.000000</td>\n",
       "    </tr>\n",
       "    <tr>\n",
       "      <th>50%</th>\n",
       "      <td>5.518890e+06</td>\n",
       "      <td>52.000000</td>\n",
       "      <td>0.150540</td>\n",
       "      <td>0.367925</td>\n",
       "      <td>0.000000</td>\n",
       "      <td>5.362000e+03</td>\n",
       "      <td>0.000000</td>\n",
       "      <td>0.000000</td>\n",
       "      <td>0.000000</td>\n",
       "      <td>0.000000</td>\n",
       "      <td>8.000000</td>\n",
       "      <td>1.000000</td>\n",
       "    </tr>\n",
       "    <tr>\n",
       "      <th>75%</th>\n",
       "      <td>7.761538e+06</td>\n",
       "      <td>63.000000</td>\n",
       "      <td>0.557938</td>\n",
       "      <td>0.889774</td>\n",
       "      <td>0.000000</td>\n",
       "      <td>8.200000e+03</td>\n",
       "      <td>1.000000</td>\n",
       "      <td>0.000000</td>\n",
       "      <td>0.000000</td>\n",
       "      <td>0.000000</td>\n",
       "      <td>11.000000</td>\n",
       "      <td>2.000000</td>\n",
       "    </tr>\n",
       "    <tr>\n",
       "      <th>max</th>\n",
       "      <td>9.999999e+06</td>\n",
       "      <td>105.000000</td>\n",
       "      <td>22198.000000</td>\n",
       "      <td>329664.000000</td>\n",
       "      <td>1.000000</td>\n",
       "      <td>1.794060e+06</td>\n",
       "      <td>20.000000</td>\n",
       "      <td>98.000000</td>\n",
       "      <td>98.000000</td>\n",
       "      <td>98.000000</td>\n",
       "      <td>52.000000</td>\n",
       "      <td>25.000000</td>\n",
       "    </tr>\n",
       "  </tbody>\n",
       "</table>\n",
       "</div>"
      ],
      "text/plain": [
       "                 ID           age  credit_card_balance_ratio     debt_ratio  \\\n",
       "count  4.500000e+04  45000.000000               45000.000000   45000.000000   \n",
       "mean   5.516422e+06     52.282778                   5.692377     366.114262   \n",
       "std    2.601172e+06     14.750758                 208.062208    2504.362003   \n",
       "min    1.000102e+06      0.000000                   0.000000       0.000000   \n",
       "25%    3.267706e+06     41.000000                   0.030024       0.176616   \n",
       "50%    5.518890e+06     52.000000                   0.150540       0.367925   \n",
       "75%    7.761538e+06     63.000000                   0.557938       0.889774   \n",
       "max    9.999999e+06    105.000000               22198.000000  329664.000000   \n",
       "\n",
       "          defaulted  monthly_income  nb_dependents  nb_late_payments_1month  \\\n",
       "count  45000.000000    3.598000e+04   43844.000000             45000.000000   \n",
       "mean       0.066022    6.675478e+03       0.760629                 0.416289   \n",
       "std        0.248324    1.359081e+04       1.119370                 4.100654   \n",
       "min        0.000000    0.000000e+00       0.000000                 0.000000   \n",
       "25%        0.000000    3.400000e+03       0.000000                 0.000000   \n",
       "50%        0.000000    5.362000e+03       0.000000                 0.000000   \n",
       "75%        0.000000    8.200000e+03       1.000000                 0.000000   \n",
       "max        1.000000    1.794060e+06      20.000000                98.000000   \n",
       "\n",
       "       nb_late_payments_2months  nb_late_payments_3+months  nb_open_loans  \\\n",
       "count              45000.000000               45000.000000   45000.000000   \n",
       "mean                   0.232911                   0.261356       8.436133   \n",
       "std                    4.060182                   4.076032       5.131408   \n",
       "min                    0.000000                   0.000000       0.000000   \n",
       "25%                    0.000000                   0.000000       5.000000   \n",
       "50%                    0.000000                   0.000000       8.000000   \n",
       "75%                    0.000000                   0.000000      11.000000   \n",
       "max                   98.000000                  98.000000      52.000000   \n",
       "\n",
       "       nb_special_loans  \n",
       "count      45000.000000  \n",
       "mean           1.024778  \n",
       "std            1.124936  \n",
       "min            0.000000  \n",
       "25%            0.000000  \n",
       "50%            1.000000  \n",
       "75%            2.000000  \n",
       "max           25.000000  "
      ]
     },
     "execution_count": 97,
     "metadata": {},
     "output_type": "execute_result"
    }
   ],
   "source": [
    "# statisical summaries of ALL numeric columns in the DataFrame\n",
    "df.describe()"
   ]
  },
  {
   "cell_type": "code",
   "execution_count": 98,
   "metadata": {},
   "outputs": [
    {
     "data": {
      "text/html": [
       "<div>\n",
       "<style scoped>\n",
       "    .dataframe tbody tr th:only-of-type {\n",
       "        vertical-align: middle;\n",
       "    }\n",
       "\n",
       "    .dataframe tbody tr th {\n",
       "        vertical-align: top;\n",
       "    }\n",
       "\n",
       "    .dataframe thead th {\n",
       "        text-align: right;\n",
       "    }\n",
       "</style>\n",
       "<table border=\"1\" class=\"dataframe\">\n",
       "  <thead>\n",
       "    <tr style=\"text-align: right;\">\n",
       "      <th></th>\n",
       "      <th>ID</th>\n",
       "      <th>age</th>\n",
       "      <th>credit_card_balance_ratio</th>\n",
       "      <th>debt_ratio</th>\n",
       "      <th>defaulted</th>\n",
       "      <th>monthly_income</th>\n",
       "      <th>nb_dependents</th>\n",
       "      <th>nb_late_payments_1month</th>\n",
       "      <th>nb_late_payments_2months</th>\n",
       "      <th>nb_late_payments_3+months</th>\n",
       "      <th>nb_open_loans</th>\n",
       "      <th>nb_special_loans</th>\n",
       "    </tr>\n",
       "  </thead>\n",
       "  <tbody>\n",
       "    <tr>\n",
       "      <th>count</th>\n",
       "      <td>4.500000e+04</td>\n",
       "      <td>45000.000000</td>\n",
       "      <td>45000.000000</td>\n",
       "      <td>45000.000000</td>\n",
       "      <td>45000.000000</td>\n",
       "      <td>3.598000e+04</td>\n",
       "      <td>43844.000000</td>\n",
       "      <td>45000.000000</td>\n",
       "      <td>45000.000000</td>\n",
       "      <td>45000.000000</td>\n",
       "      <td>45000.000000</td>\n",
       "      <td>45000.000000</td>\n",
       "    </tr>\n",
       "    <tr>\n",
       "      <th>mean</th>\n",
       "      <td>5.516422e+06</td>\n",
       "      <td>52.282778</td>\n",
       "      <td>5.692377</td>\n",
       "      <td>366.114262</td>\n",
       "      <td>0.066022</td>\n",
       "      <td>6.675478e+03</td>\n",
       "      <td>0.760629</td>\n",
       "      <td>0.416289</td>\n",
       "      <td>0.232911</td>\n",
       "      <td>0.261356</td>\n",
       "      <td>8.436133</td>\n",
       "      <td>1.024778</td>\n",
       "    </tr>\n",
       "    <tr>\n",
       "      <th>std</th>\n",
       "      <td>2.601172e+06</td>\n",
       "      <td>14.750758</td>\n",
       "      <td>208.062208</td>\n",
       "      <td>2504.362003</td>\n",
       "      <td>0.248324</td>\n",
       "      <td>1.359081e+04</td>\n",
       "      <td>1.119370</td>\n",
       "      <td>4.100654</td>\n",
       "      <td>4.060182</td>\n",
       "      <td>4.076032</td>\n",
       "      <td>5.131408</td>\n",
       "      <td>1.124936</td>\n",
       "    </tr>\n",
       "    <tr>\n",
       "      <th>min</th>\n",
       "      <td>1.000102e+06</td>\n",
       "      <td>0.000000</td>\n",
       "      <td>0.000000</td>\n",
       "      <td>0.000000</td>\n",
       "      <td>0.000000</td>\n",
       "      <td>0.000000e+00</td>\n",
       "      <td>0.000000</td>\n",
       "      <td>0.000000</td>\n",
       "      <td>0.000000</td>\n",
       "      <td>0.000000</td>\n",
       "      <td>0.000000</td>\n",
       "      <td>0.000000</td>\n",
       "    </tr>\n",
       "    <tr>\n",
       "      <th>10%</th>\n",
       "      <td>1.908994e+06</td>\n",
       "      <td>33.000000</td>\n",
       "      <td>0.003022</td>\n",
       "      <td>0.032815</td>\n",
       "      <td>0.000000</td>\n",
       "      <td>2.000000e+03</td>\n",
       "      <td>0.000000</td>\n",
       "      <td>0.000000</td>\n",
       "      <td>0.000000</td>\n",
       "      <td>0.000000</td>\n",
       "      <td>3.000000</td>\n",
       "      <td>0.000000</td>\n",
       "    </tr>\n",
       "    <tr>\n",
       "      <th>50%</th>\n",
       "      <td>5.518890e+06</td>\n",
       "      <td>52.000000</td>\n",
       "      <td>0.150540</td>\n",
       "      <td>0.367925</td>\n",
       "      <td>0.000000</td>\n",
       "      <td>5.362000e+03</td>\n",
       "      <td>0.000000</td>\n",
       "      <td>0.000000</td>\n",
       "      <td>0.000000</td>\n",
       "      <td>0.000000</td>\n",
       "      <td>8.000000</td>\n",
       "      <td>1.000000</td>\n",
       "    </tr>\n",
       "    <tr>\n",
       "      <th>90%</th>\n",
       "      <td>9.122154e+06</td>\n",
       "      <td>72.000000</td>\n",
       "      <td>0.976701</td>\n",
       "      <td>1296.000000</td>\n",
       "      <td>0.000000</td>\n",
       "      <td>1.166600e+04</td>\n",
       "      <td>2.000000</td>\n",
       "      <td>1.000000</td>\n",
       "      <td>0.000000</td>\n",
       "      <td>0.000000</td>\n",
       "      <td>15.000000</td>\n",
       "      <td>2.000000</td>\n",
       "    </tr>\n",
       "    <tr>\n",
       "      <th>max</th>\n",
       "      <td>9.999999e+06</td>\n",
       "      <td>105.000000</td>\n",
       "      <td>22198.000000</td>\n",
       "      <td>329664.000000</td>\n",
       "      <td>1.000000</td>\n",
       "      <td>1.794060e+06</td>\n",
       "      <td>20.000000</td>\n",
       "      <td>98.000000</td>\n",
       "      <td>98.000000</td>\n",
       "      <td>98.000000</td>\n",
       "      <td>52.000000</td>\n",
       "      <td>25.000000</td>\n",
       "    </tr>\n",
       "  </tbody>\n",
       "</table>\n",
       "</div>"
      ],
      "text/plain": [
       "                 ID           age  credit_card_balance_ratio     debt_ratio  \\\n",
       "count  4.500000e+04  45000.000000               45000.000000   45000.000000   \n",
       "mean   5.516422e+06     52.282778                   5.692377     366.114262   \n",
       "std    2.601172e+06     14.750758                 208.062208    2504.362003   \n",
       "min    1.000102e+06      0.000000                   0.000000       0.000000   \n",
       "10%    1.908994e+06     33.000000                   0.003022       0.032815   \n",
       "50%    5.518890e+06     52.000000                   0.150540       0.367925   \n",
       "90%    9.122154e+06     72.000000                   0.976701    1296.000000   \n",
       "max    9.999999e+06    105.000000               22198.000000  329664.000000   \n",
       "\n",
       "          defaulted  monthly_income  nb_dependents  nb_late_payments_1month  \\\n",
       "count  45000.000000    3.598000e+04   43844.000000             45000.000000   \n",
       "mean       0.066022    6.675478e+03       0.760629                 0.416289   \n",
       "std        0.248324    1.359081e+04       1.119370                 4.100654   \n",
       "min        0.000000    0.000000e+00       0.000000                 0.000000   \n",
       "10%        0.000000    2.000000e+03       0.000000                 0.000000   \n",
       "50%        0.000000    5.362000e+03       0.000000                 0.000000   \n",
       "90%        0.000000    1.166600e+04       2.000000                 1.000000   \n",
       "max        1.000000    1.794060e+06      20.000000                98.000000   \n",
       "\n",
       "       nb_late_payments_2months  nb_late_payments_3+months  nb_open_loans  \\\n",
       "count              45000.000000               45000.000000   45000.000000   \n",
       "mean                   0.232911                   0.261356       8.436133   \n",
       "std                    4.060182                   4.076032       5.131408   \n",
       "min                    0.000000                   0.000000       0.000000   \n",
       "10%                    0.000000                   0.000000       3.000000   \n",
       "50%                    0.000000                   0.000000       8.000000   \n",
       "90%                    0.000000                   0.000000      15.000000   \n",
       "max                   98.000000                  98.000000      52.000000   \n",
       "\n",
       "       nb_special_loans  \n",
       "count      45000.000000  \n",
       "mean           1.024778  \n",
       "std            1.124936  \n",
       "min            0.000000  \n",
       "10%            0.000000  \n",
       "50%            1.000000  \n",
       "90%            2.000000  \n",
       "max           25.000000  "
      ]
     },
     "execution_count": 98,
     "metadata": {},
     "output_type": "execute_result"
    }
   ],
   "source": [
    "# The default value is percentiles = [.25, .5, .75]\n",
    "df.describe(percentiles=[.1,.5,.9])"
   ]
  },
  {
   "cell_type": "code",
   "execution_count": 99,
   "metadata": {},
   "outputs": [
    {
     "data": {
      "text/plain": [
       "count    45000.000000\n",
       "mean         0.066022\n",
       "std          0.248324\n",
       "min          0.000000\n",
       "25%          0.000000\n",
       "50%          0.000000\n",
       "75%          0.000000\n",
       "max          1.000000\n",
       "Name: defaulted, dtype: float64"
      ]
     },
     "execution_count": 99,
     "metadata": {},
     "output_type": "execute_result"
    }
   ],
   "source": [
    "# statisical summary of a particular column\n",
    "df.defaulted.describe()"
   ]
  },
  {
   "cell_type": "code",
   "execution_count": 100,
   "metadata": {},
   "outputs": [
    {
     "data": {
      "text/plain": [
       "count    43844.000000\n",
       "mean         0.760629\n",
       "std          1.119370\n",
       "min          0.000000\n",
       "25%          0.000000\n",
       "50%          0.000000\n",
       "75%          1.000000\n",
       "max         20.000000\n",
       "Name: nb_dependents, dtype: float64"
      ]
     },
     "execution_count": 100,
     "metadata": {},
     "output_type": "execute_result"
    }
   ],
   "source": [
    "df.nb_dependents.describe()"
   ]
  },
  {
   "cell_type": "code",
   "execution_count": 101,
   "metadata": {},
   "outputs": [
    {
     "data": {
      "text/plain": [
       "count    45000.000000\n",
       "mean         0.066022\n",
       "std          0.248324\n",
       "min          0.000000\n",
       "10%          0.000000\n",
       "50%          0.000000\n",
       "90%          0.000000\n",
       "max          1.000000\n",
       "Name: defaulted, dtype: float64"
      ]
     },
     "execution_count": 101,
     "metadata": {},
     "output_type": "execute_result"
    }
   ],
   "source": [
    "# Show particular percentiles\n",
    "# The default value is percentiles = [.25, .5, .75]\n",
    "df.defaulted.describe(percentiles=[.1,.5,.9])"
   ]
  },
  {
   "cell_type": "markdown",
   "metadata": {},
   "source": [
    "### Exploring values of a single attribute\n",
    "This is generally useful for detecting invalid and unusual values in the attribue.\n",
    "- We can visualize 2 types of distributions: absolute frequency distribution and relative frequency distribution (latter is an estimate of the probability distribution)\n",
    "- For *continuous numeric* varible: plot histogram or boxplot.\n",
    "- For *categorical* variable: use barplot or a tabular summary.\n",
    "- For *discrete* variable: histogram or boxplot if large number of unique values; otherwise use barplot or table."
   ]
  },
  {
   "cell_type": "markdown",
   "metadata": {},
   "source": [
    "#### **Tabular summary**\n",
    "- This is a table containing all unique values and their corresponding frequencies in the dataset.\n",
    "- It is appropriate for *categorical* variables and *discrete* variables with small number of unique values.\n",
    "- In Python, this is done using ``value_counts`` function."
   ]
  },
  {
   "cell_type": "code",
   "execution_count": 102,
   "metadata": {},
   "outputs": [
    {
     "data": {
      "text/plain": [
       "array([1, 0])"
      ]
     },
     "execution_count": 102,
     "metadata": {},
     "output_type": "execute_result"
    }
   ],
   "source": [
    "# unique values of a particular column\n",
    "df.defaulted.unique()"
   ]
  },
  {
   "cell_type": "code",
   "execution_count": 103,
   "metadata": {},
   "outputs": [
    {
     "data": {
      "text/plain": [
       "0    42029\n",
       "1     2971\n",
       "Name: defaulted, dtype: int64"
      ]
     },
     "execution_count": 103,
     "metadata": {},
     "output_type": "execute_result"
    }
   ],
   "source": [
    "# table of absolute frequency counts\n",
    "df.defaulted.value_counts()"
   ]
  },
  {
   "cell_type": "code",
   "execution_count": 104,
   "metadata": {},
   "outputs": [
    {
     "data": {
      "text/plain": [
       "0    0.933978\n",
       "1    0.066022\n",
       "Name: defaulted, dtype: float64"
      ]
     },
     "execution_count": 104,
     "metadata": {},
     "output_type": "execute_result"
    }
   ],
   "source": [
    "# relative frequency counts\n",
    "df.defaulted.value_counts(normalize=True)"
   ]
  },
  {
   "cell_type": "code",
   "execution_count": 105,
   "metadata": {},
   "outputs": [
    {
     "data": {
      "text/plain": [
       "array([ 2.,  0.,  1.,  4.,  5.,  3., nan,  6.,  9.,  8.,  7., 20.])"
      ]
     },
     "execution_count": 105,
     "metadata": {},
     "output_type": "execute_result"
    }
   ],
   "source": [
    "df.nb_dependents.unique()"
   ]
  },
  {
   "cell_type": "code",
   "execution_count": 106,
   "metadata": {},
   "outputs": [
    {
     "data": {
      "text/plain": [
       "0.0     26038\n",
       "1.0      7860\n",
       "2.0      5959\n",
       "3.0      2816\n",
       "4.0       864\n",
       "5.0       228\n",
       "6.0        49\n",
       "7.0        20\n",
       "8.0         8\n",
       "20.0        1\n",
       "9.0         1\n",
       "Name: nb_dependents, dtype: int64"
      ]
     },
     "execution_count": 106,
     "metadata": {},
     "output_type": "execute_result"
    }
   ],
   "source": [
    "pd.value_counts(df.nb_dependents)"
   ]
  },
  {
   "cell_type": "code",
   "execution_count": 107,
   "metadata": {},
   "outputs": [
    {
     "data": {
      "text/plain": [
       "0.0    26038\n",
       "1.0     7860\n",
       "2.0     5959\n",
       "3.0     2816\n",
       "4.0      864\n",
       "Name: nb_dependents, dtype: int64"
      ]
     },
     "execution_count": 107,
     "metadata": {},
     "output_type": "execute_result"
    }
   ],
   "source": [
    "# Show the top 5 frequent values only\n",
    "pd.value_counts(df.nb_dependents).head(n=5)"
   ]
  },
  {
   "cell_type": "code",
   "execution_count": 108,
   "metadata": {},
   "outputs": [
    {
     "data": {
      "text/plain": [
       "82"
      ]
     },
     "execution_count": 108,
     "metadata": {},
     "output_type": "execute_result"
    }
   ],
   "source": [
    "df.age.nunique()"
   ]
  },
  {
   "cell_type": "code",
   "execution_count": 109,
   "metadata": {},
   "outputs": [
    {
     "data": {
      "text/plain": [
       "48    1189\n",
       "50    1150\n",
       "49    1130\n",
       "63    1127\n",
       "47    1115\n",
       "Name: age, dtype: int64"
      ]
     },
     "execution_count": 109,
     "metadata": {},
     "output_type": "execute_result"
    }
   ],
   "source": [
    "pd.value_counts(df.age).head()"
   ]
  },
  {
   "cell_type": "code",
   "execution_count": 110,
   "metadata": {},
   "outputs": [
    {
     "data": {
      "text/plain": [
       "<matplotlib.axes._subplots.AxesSubplot at 0x115cf9780>"
      ]
     },
     "execution_count": 110,
     "metadata": {},
     "output_type": "execute_result"
    },
    {
     "data": {
      "image/png": "[encoded data removed]",
      "text/plain": [
       "<matplotlib.figure.Figure at 0x115cf8c88>"
      ]
     },
     "metadata": {},
     "output_type": "display_data"
    }
   ],
   "source": [
    "df.marital_status.value_counts(normalize=True).plot(kind='bar')"
   ]
  },
  {
   "cell_type": "code",
   "execution_count": 111,
   "metadata": {},
   "outputs": [
    {
     "data": {
      "text/plain": [
       "<matplotlib.axes._subplots.AxesSubplot at 0x10a4fc6d8>"
      ]
     },
     "execution_count": 111,
     "metadata": {},
     "output_type": "execute_result"
    },
    {
     "data": {
      "image/png": "[encoded data removed]",
      "text/plain": [
       "<matplotlib.figure.Figure at 0x115d0ea20>"
      ]
     },
     "metadata": {},
     "output_type": "display_data"
    }
   ],
   "source": [
    "df.nb_dependents.value_counts(normalize=True).plot(kind='bar')"
   ]
  },
  {
   "cell_type": "code",
   "execution_count": 112,
   "metadata": {},
   "outputs": [
    {
     "data": {
      "text/plain": [
       "<matplotlib.axes._subplots.AxesSubplot at 0x115cbb5f8>"
      ]
     },
     "execution_count": 112,
     "metadata": {},
     "output_type": "execute_result"
    },
    {
     "data": {
      "image/png": "[encoded data removed]",
      "text/plain": [
       "<matplotlib.figure.Figure at 0x115d5db00>"
      ]
     },
     "metadata": {},
     "output_type": "display_data"
    }
   ],
   "source": [
    "# the age attribute has too many unique values\n",
    "df.age.value_counts().plot(kind='bar')"
   ]
  },
  {
   "cell_type": "code",
   "execution_count": 113,
   "metadata": {},
   "outputs": [
    {
     "data": {
      "text/plain": [
       "<matplotlib.axes._subplots.AxesSubplot at 0x1157fe7f0>"
      ]
     },
     "execution_count": 113,
     "metadata": {},
     "output_type": "execute_result"
    },
    {
     "data": {
      "image/png": "[encoded data removed]",
      "text/plain": [
       "<matplotlib.figure.Figure at 0x1158123c8>"
      ]
     },
     "metadata": {},
     "output_type": "display_data"
    }
   ],
   "source": [
    "df.age.value_counts(normalize=True).head(n=30).plot(kind='bar')"
   ]
  },
  {
   "cell_type": "code",
   "execution_count": 114,
   "metadata": {},
   "outputs": [
    {
     "data": {
      "text/plain": [
       "<matplotlib.axes._subplots.AxesSubplot at 0x1149263c8>"
      ]
     },
     "execution_count": 114,
     "metadata": {},
     "output_type": "execute_result"
    },
    {
     "data": {
      "image/png": "[encoded data removed]",
      "text/plain": [
       "<matplotlib.figure.Figure at 0x1158a79e8>"
      ]
     },
     "metadata": {},
     "output_type": "display_data"
    }
   ],
   "source": [
    "# Histogram of the log of monthly income\n",
    "mask = df.monthly_income>0\n",
    "pd.Series(np.log10(df.monthly_income[mask])).plot(kind='hist')"
   ]
  },
  {
   "cell_type": "code",
   "execution_count": 115,
   "metadata": {},
   "outputs": [
    {
     "data": {
      "text/plain": [
       "<matplotlib.axes._subplots.AxesSubplot at 0x115812b70>"
      ]
     },
     "execution_count": 115,
     "metadata": {},
     "output_type": "execute_result"
    },
    {
     "data": {
      "image/png": "[encoded data removed]",
      "text/plain": [
       "<matplotlib.figure.Figure at 0x11652f0f0>"
      ]
     },
     "metadata": {},
     "output_type": "display_data"
    }
   ],
   "source": [
    "mask = df.monthly_income<100\n",
    "df.monthly_income[mask].plot(kind='hist')"
   ]
  },
  {
   "cell_type": "code",
   "execution_count": 116,
   "metadata": {},
   "outputs": [
    {
     "data": {
      "text/plain": [
       "<matplotlib.axes._subplots.AxesSubplot at 0x114b33da0>"
      ]
     },
     "execution_count": 116,
     "metadata": {},
     "output_type": "execute_result"
    },
    {
     "data": {
      "image/png": "[encoded data removed]",
      "text/plain": [
       "<matplotlib.figure.Figure at 0x1143a3c88>"
      ]
     },
     "metadata": {},
     "output_type": "display_data"
    }
   ],
   "source": [
    "# Boxplot of the age column in our data frame\n",
    "df.age.plot(kind='box')"
   ]
  },
  {
   "cell_type": "code",
   "execution_count": 117,
   "metadata": {},
   "outputs": [
    {
     "data": {
      "text/plain": [
       "<matplotlib.axes._subplots.AxesSubplot at 0x116535390>"
      ]
     },
     "execution_count": 117,
     "metadata": {},
     "output_type": "execute_result"
    },
    {
     "data": {
      "image/png": "[encoded data removed]",
      "text/plain": [
       "<matplotlib.figure.Figure at 0x11643e080>"
      ]
     },
     "metadata": {},
     "output_type": "display_data"
    }
   ],
   "source": [
    "# NOT VERY HELPFUL BECAUSE DISTRIBUTION HAS A HEAVY RIGHT TAIL\n",
    "df.debt_ratio.plot(kind='box')"
   ]
  },
  {
   "cell_type": "code",
   "execution_count": 118,
   "metadata": {},
   "outputs": [
    {
     "data": {
      "text/plain": [
       "<matplotlib.axes._subplots.AxesSubplot at 0x1164ae1d0>"
      ]
     },
     "execution_count": 118,
     "metadata": {},
     "output_type": "execute_result"
    },
    {
     "data": {
      "image/png": "[encoded data removed]",
      "text/plain": [
       "<matplotlib.figure.Figure at 0x1164a02b0>"
      ]
     },
     "metadata": {},
     "output_type": "display_data"
    }
   ],
   "source": [
    "df.debt_ratio.plot(kind='box', logy=True)"
   ]
  },
  {
   "cell_type": "code",
   "execution_count": 119,
   "metadata": {},
   "outputs": [
    {
     "name": "stdout",
     "output_type": "stream",
     "text": [
      "1195\n",
      "33158\n",
      "10647\n"
     ]
    }
   ],
   "source": [
    "print((df.debt_ratio==0).sum())\n",
    "print(((df.debt_ratio<=1) & (df.debt_ratio>0)).sum())\n",
    "print((df.debt_ratio>1).sum())"
   ]
  },
  {
   "cell_type": "code",
   "execution_count": 120,
   "metadata": {},
   "outputs": [
    {
     "data": {
      "text/plain": [
       "<matplotlib.axes._subplots.AxesSubplot at 0x1165877f0>"
      ]
     },
     "execution_count": 120,
     "metadata": {},
     "output_type": "execute_result"
    },
    {
     "data": {
      "image/png": "[encoded data removed]",
      "text/plain": [
       "<matplotlib.figure.Figure at 0x11658ccf8>"
      ]
     },
     "metadata": {},
     "output_type": "display_data"
    }
   ],
   "source": [
    "mask = (df.debt_ratio>0)\n",
    "df.debt_ratio[mask].plot(kind='box', logy=True)"
   ]
  },
  {
   "cell_type": "code",
   "execution_count": 121,
   "metadata": {},
   "outputs": [
    {
     "data": {
      "text/plain": [
       "count     43805.000000\n",
       "mean        376.101856\n",
       "std        2537.552354\n",
       "min           0.000075\n",
       "25%           0.191862\n",
       "50%           0.379770\n",
       "75%           0.946018\n",
       "max      329664.000000\n",
       "Name: debt_ratio, dtype: float64"
      ]
     },
     "execution_count": 121,
     "metadata": {},
     "output_type": "execute_result"
    }
   ],
   "source": [
    "df.debt_ratio[mask].describe()"
   ]
  },
  {
   "cell_type": "code",
   "execution_count": 122,
   "metadata": {},
   "outputs": [
    {
     "data": {
      "text/plain": [
       "<matplotlib.axes._subplots.AxesSubplot at 0x116bcaf28>"
      ]
     },
     "execution_count": 122,
     "metadata": {},
     "output_type": "execute_result"
    },
    {
     "data": {
      "image/png": "[encoded data removed]",
      "text/plain": [
       "<matplotlib.figure.Figure at 0x116d5e978>"
      ]
     },
     "metadata": {},
     "output_type": "display_data"
    }
   ],
   "source": [
    "# NOT VERY HELPFUL BECAUSE THIS DISTRIBUTION IS VERY SKEWED\n",
    "df.credit_card_balance_ratio.plot(kind='box')"
   ]
  },
  {
   "cell_type": "markdown",
   "metadata": {},
   "source": [
    "### Explore Missing Values\n"
   ]
  },
  {
   "cell_type": "code",
   "execution_count": 123,
   "metadata": {},
   "outputs": [
    {
     "data": {
      "text/plain": [
       "count     45000\n",
       "unique        2\n",
       "top       False\n",
       "freq      35980\n",
       "Name: monthly_income, dtype: object"
      ]
     },
     "execution_count": 123,
     "metadata": {},
     "output_type": "execute_result"
    }
   ],
   "source": [
    "df['monthly_income'].isna().describe()"
   ]
  },
  {
   "cell_type": "code",
   "execution_count": 124,
   "metadata": {},
   "outputs": [
    {
     "data": {
      "text/plain": [
       "<matplotlib.axes._subplots.AxesSubplot at 0x1164a0588>"
      ]
     },
     "execution_count": 124,
     "metadata": {},
     "output_type": "execute_result"
    },
    {
     "data": {
      "image/png": "[encoded data removed]",
      "text/plain": [
       "<matplotlib.figure.Figure at 0x116b63208>"
      ]
     },
     "metadata": {},
     "output_type": "display_data"
    }
   ],
   "source": [
    "df['monthly_income'].isna().value_counts().plot(kind='bar')"
   ]
  },
  {
   "cell_type": "code",
   "execution_count": 125,
   "metadata": {},
   "outputs": [
    {
     "data": {
      "text/plain": [
       "[('ID', 0),\n",
       " ('age', 0),\n",
       " ('age_group', 0),\n",
       " ('credit_card_balance_ratio', 0),\n",
       " ('debt_ratio', 0),\n",
       " ('defaulted', 0),\n",
       " ('gender', 0),\n",
       " ('marital_status', 0),\n",
       " ('monthly_income', 9020),\n",
       " ('nb_dependents', 1156),\n",
       " ('nb_late_payments_1month', 0),\n",
       " ('nb_late_payments_2months', 0),\n",
       " ('nb_late_payments_3+months', 0),\n",
       " ('nb_open_loans', 0),\n",
       " ('nb_special_loans', 0)]"
      ]
     },
     "execution_count": 125,
     "metadata": {},
     "output_type": "execute_result"
    }
   ],
   "source": [
    "# a simpler/shorter way for doing the same thing as previous cell\n",
    "L = [(col,(df[col].isna()==True).sum()) for col in df.columns]   #construct a list of (key,value) pairs\n",
    "L"
   ]
  },
  {
   "cell_type": "code",
   "execution_count": 126,
   "metadata": {},
   "outputs": [
    {
     "data": {
      "text/html": [
       "<div>\n",
       "<style scoped>\n",
       "    .dataframe tbody tr th:only-of-type {\n",
       "        vertical-align: middle;\n",
       "    }\n",
       "\n",
       "    .dataframe tbody tr th {\n",
       "        vertical-align: top;\n",
       "    }\n",
       "\n",
       "    .dataframe thead th {\n",
       "        text-align: right;\n",
       "    }\n",
       "</style>\n",
       "<table border=\"1\" class=\"dataframe\">\n",
       "  <thead>\n",
       "    <tr style=\"text-align: right;\">\n",
       "      <th></th>\n",
       "      <th>Variable</th>\n",
       "      <th>Number of missing values</th>\n",
       "    </tr>\n",
       "  </thead>\n",
       "  <tbody>\n",
       "    <tr>\n",
       "      <th>0</th>\n",
       "      <td>ID</td>\n",
       "      <td>0</td>\n",
       "    </tr>\n",
       "    <tr>\n",
       "      <th>1</th>\n",
       "      <td>age</td>\n",
       "      <td>0</td>\n",
       "    </tr>\n",
       "    <tr>\n",
       "      <th>2</th>\n",
       "      <td>age_group</td>\n",
       "      <td>0</td>\n",
       "    </tr>\n",
       "    <tr>\n",
       "      <th>3</th>\n",
       "      <td>credit_card_balance_ratio</td>\n",
       "      <td>0</td>\n",
       "    </tr>\n",
       "    <tr>\n",
       "      <th>4</th>\n",
       "      <td>debt_ratio</td>\n",
       "      <td>0</td>\n",
       "    </tr>\n",
       "    <tr>\n",
       "      <th>5</th>\n",
       "      <td>defaulted</td>\n",
       "      <td>0</td>\n",
       "    </tr>\n",
       "    <tr>\n",
       "      <th>6</th>\n",
       "      <td>gender</td>\n",
       "      <td>0</td>\n",
       "    </tr>\n",
       "    <tr>\n",
       "      <th>7</th>\n",
       "      <td>marital_status</td>\n",
       "      <td>0</td>\n",
       "    </tr>\n",
       "    <tr>\n",
       "      <th>8</th>\n",
       "      <td>monthly_income</td>\n",
       "      <td>9020</td>\n",
       "    </tr>\n",
       "    <tr>\n",
       "      <th>9</th>\n",
       "      <td>nb_dependents</td>\n",
       "      <td>1156</td>\n",
       "    </tr>\n",
       "    <tr>\n",
       "      <th>10</th>\n",
       "      <td>nb_late_payments_1month</td>\n",
       "      <td>0</td>\n",
       "    </tr>\n",
       "    <tr>\n",
       "      <th>11</th>\n",
       "      <td>nb_late_payments_2months</td>\n",
       "      <td>0</td>\n",
       "    </tr>\n",
       "    <tr>\n",
       "      <th>12</th>\n",
       "      <td>nb_late_payments_3+months</td>\n",
       "      <td>0</td>\n",
       "    </tr>\n",
       "    <tr>\n",
       "      <th>13</th>\n",
       "      <td>nb_open_loans</td>\n",
       "      <td>0</td>\n",
       "    </tr>\n",
       "    <tr>\n",
       "      <th>14</th>\n",
       "      <td>nb_special_loans</td>\n",
       "      <td>0</td>\n",
       "    </tr>\n",
       "  </tbody>\n",
       "</table>\n",
       "</div>"
      ],
      "text/plain": [
       "                     Variable  Number of missing values\n",
       "0                          ID                         0\n",
       "1                         age                         0\n",
       "2                   age_group                         0\n",
       "3   credit_card_balance_ratio                         0\n",
       "4                  debt_ratio                         0\n",
       "5                   defaulted                         0\n",
       "6                      gender                         0\n",
       "7              marital_status                         0\n",
       "8              monthly_income                      9020\n",
       "9               nb_dependents                      1156\n",
       "10    nb_late_payments_1month                         0\n",
       "11   nb_late_payments_2months                         0\n",
       "12  nb_late_payments_3+months                         0\n",
       "13              nb_open_loans                         0\n",
       "14           nb_special_loans                         0"
      ]
     },
     "execution_count": 126,
     "metadata": {},
     "output_type": "execute_result"
    }
   ],
   "source": [
    "#display result as a data frame\n",
    "pd.DataFrame(data=L, columns = ['Variable','Number of missing values'])"
   ]
  },
  {
   "cell_type": "markdown",
   "metadata": {},
   "source": [
    "### Explore Strange Values"
   ]
  },
  {
   "cell_type": "code",
   "execution_count": 127,
   "metadata": {},
   "outputs": [
    {
     "data": {
      "text/plain": [
       "<matplotlib.axes._subplots.AxesSubplot at 0x116c736a0>"
      ]
     },
     "execution_count": 127,
     "metadata": {},
     "output_type": "execute_result"
    },
    {
     "data": {
      "image/png": "[encoded data removed]",
      "text/plain": [
       "<matplotlib.figure.Figure at 0x116b63d30>"
      ]
     },
     "metadata": {},
     "output_type": "display_data"
    }
   ],
   "source": [
    "df.monthly_income.plot(kind='box', logy=True)"
   ]
  },
  {
   "cell_type": "code",
   "execution_count": 128,
   "metadata": {},
   "outputs": [
    {
     "data": {
      "text/plain": [
       "679"
      ]
     },
     "execution_count": 128,
     "metadata": {},
     "output_type": "execute_result"
    }
   ],
   "source": [
    "mask = df.monthly_income<100\n",
    "mask.sum()"
   ]
  },
  {
   "cell_type": "code",
   "execution_count": 129,
   "metadata": {},
   "outputs": [
    {
     "data": {
      "text/plain": [
       "count    679.000000\n",
       "mean       0.798233\n",
       "std        4.948013\n",
       "min        0.000000\n",
       "25%        0.000000\n",
       "50%        0.000000\n",
       "75%        1.000000\n",
       "max       83.000000\n",
       "Name: monthly_income, dtype: float64"
      ]
     },
     "execution_count": 129,
     "metadata": {},
     "output_type": "execute_result"
    }
   ],
   "source": [
    "df.monthly_income[mask].describe()"
   ]
  },
  {
   "cell_type": "code",
   "execution_count": 130,
   "metadata": {},
   "outputs": [
    {
     "data": {
      "text/plain": [
       "0.0     469\n",
       "1.0     195\n",
       "2.0       3\n",
       "40.0      2\n",
       "10.0      2\n",
       "50.0      1\n",
       "56.0      1\n",
       "7.0       1\n",
       "9.0       1\n",
       "83.0      1\n",
       "27.0      1\n",
       "5.0       1\n",
       "4.0       1\n",
       "Name: monthly_income, dtype: int64"
      ]
     },
     "execution_count": 130,
     "metadata": {},
     "output_type": "execute_result"
    }
   ],
   "source": [
    "df.monthly_income[df.monthly_income<100].value_counts()"
   ]
  },
  {
   "cell_type": "code",
   "execution_count": 131,
   "metadata": {},
   "outputs": [
    {
     "data": {
      "text/plain": [
       "<matplotlib.axes._subplots.AxesSubplot at 0x116d1eeb8>"
      ]
     },
     "execution_count": 131,
     "metadata": {},
     "output_type": "execute_result"
    },
    {
     "data": {
      "image/png": "[encoded data removed]",
      "text/plain": [
       "<matplotlib.figure.Figure at 0x116cddc18>"
      ]
     },
     "metadata": {},
     "output_type": "display_data"
    }
   ],
   "source": [
    "df.monthly_income[mask].plot(kind='hist')"
   ]
  },
  {
   "cell_type": "code",
   "execution_count": 132,
   "metadata": {},
   "outputs": [
    {
     "data": {
      "text/plain": [
       "count    3.513400e+04\n",
       "mean     6.834465e+03\n",
       "std      1.371431e+04\n",
       "min      5.010000e+02\n",
       "25%      3.500000e+03\n",
       "50%      5.464000e+03\n",
       "75%      8.322750e+03\n",
       "max      1.794060e+06\n",
       "Name: monthly_income, dtype: float64"
      ]
     },
     "execution_count": 132,
     "metadata": {},
     "output_type": "execute_result"
    }
   ],
   "source": [
    "df.monthly_income[df.monthly_income>500].describe()"
   ]
  },
  {
   "cell_type": "code",
   "execution_count": 133,
   "metadata": {},
   "outputs": [
    {
     "data": {
      "text/plain": [
       "<matplotlib.axes._subplots.AxesSubplot at 0x116d3feb8>"
      ]
     },
     "execution_count": 133,
     "metadata": {},
     "output_type": "execute_result"
    },
    {
     "data": {
      "image/png": "[encoded data removed]",
      "text/plain": [
       "<matplotlib.figure.Figure at 0x1164e2518>"
      ]
     },
     "metadata": {},
     "output_type": "display_data"
    }
   ],
   "source": [
    "pd.Series(np.log10(df.monthly_income[df.monthly_income>500])).plot(kind='hist')"
   ]
  },
  {
   "cell_type": "code",
   "execution_count": 134,
   "metadata": {},
   "outputs": [
    {
     "data": {
      "text/plain": [
       "count    45000.000000\n",
       "mean         8.436133\n",
       "std          5.131408\n",
       "min          0.000000\n",
       "25%          5.000000\n",
       "50%          8.000000\n",
       "75%         11.000000\n",
       "max         52.000000\n",
       "Name: nb_open_loans, dtype: float64"
      ]
     },
     "execution_count": 134,
     "metadata": {},
     "output_type": "execute_result"
    }
   ],
   "source": [
    "df.nb_open_loans.describe()"
   ]
  },
  {
   "cell_type": "code",
   "execution_count": 135,
   "metadata": {},
   "outputs": [
    {
     "data": {
      "text/plain": [
       "49"
      ]
     },
     "execution_count": 135,
     "metadata": {},
     "output_type": "execute_result"
    }
   ],
   "source": [
    "df.nb_open_loans.nunique()"
   ]
  },
  {
   "cell_type": "code",
   "execution_count": 136,
   "metadata": {},
   "outputs": [
    {
     "data": {
      "text/plain": [
       "6    4071\n",
       "5    3966\n",
       "7    3945\n",
       "8    3679\n",
       "4    3484\n",
       "Name: nb_open_loans, dtype: int64"
      ]
     },
     "execution_count": 136,
     "metadata": {},
     "output_type": "execute_result"
    }
   ],
   "source": [
    "df.nb_open_loans.value_counts().head()"
   ]
  },
  {
   "cell_type": "code",
   "execution_count": 137,
   "metadata": {},
   "outputs": [
    {
     "data": {
      "text/plain": [
       "39    2\n",
       "42    1\n",
       "52    1\n",
       "50    1\n",
       "43    1\n",
       "Name: nb_open_loans, dtype: int64"
      ]
     },
     "execution_count": 137,
     "metadata": {},
     "output_type": "execute_result"
    }
   ],
   "source": [
    "df.nb_open_loans.value_counts().tail()"
   ]
  },
  {
   "cell_type": "code",
   "execution_count": 138,
   "metadata": {},
   "outputs": [
    {
     "data": {
      "text/plain": [
       "22"
      ]
     },
     "execution_count": 138,
     "metadata": {},
     "output_type": "execute_result"
    }
   ],
   "source": [
    "df.nb_special_loans.nunique()"
   ]
  },
  {
   "cell_type": "code",
   "execution_count": 139,
   "metadata": {},
   "outputs": [
    {
     "data": {
      "text/plain": [
       "count    45000.000000\n",
       "mean         1.024778\n",
       "std          1.124936\n",
       "min          0.000000\n",
       "25%          0.000000\n",
       "50%          1.000000\n",
       "75%          2.000000\n",
       "max         25.000000\n",
       "Name: nb_special_loans, dtype: float64"
      ]
     },
     "execution_count": 139,
     "metadata": {},
     "output_type": "execute_result"
    }
   ],
   "source": [
    "df.nb_special_loans.describe()"
   ]
  },
  {
   "cell_type": "code",
   "execution_count": 140,
   "metadata": {},
   "outputs": [
    {
     "data": {
      "text/plain": [
       "0     16798\n",
       "1     15657\n",
       "2      9481\n",
       "3      1922\n",
       "4       694\n",
       "5       207\n",
       "6        91\n",
       "7        43\n",
       "8        37\n",
       "9        30\n",
       "10       13\n",
       "11        8\n",
       "12        4\n",
       "13        4\n",
       "14        4\n",
       "21        1\n",
       "15        1\n",
       "16        1\n",
       "17        1\n",
       "18        1\n",
       "20        1\n",
       "25        1\n",
       "Name: nb_special_loans, dtype: int64"
      ]
     },
     "execution_count": 140,
     "metadata": {},
     "output_type": "execute_result"
    }
   ],
   "source": [
    "df.nb_special_loans.value_counts()"
   ]
  },
  {
   "cell_type": "code",
   "execution_count": 141,
   "metadata": {},
   "outputs": [
    {
     "data": {
      "text/plain": [
       "count    45000.000000\n",
       "mean         0.261356\n",
       "std          4.076032\n",
       "min          0.000000\n",
       "25%          0.000000\n",
       "50%          0.000000\n",
       "75%          0.000000\n",
       "max         98.000000\n",
       "Name: nb_late_payments_3+months, dtype: float64"
      ]
     },
     "execution_count": 141,
     "metadata": {},
     "output_type": "execute_result"
    }
   ],
   "source": [
    "df['nb_late_payments_3+months'].describe()"
   ]
  },
  {
   "cell_type": "code",
   "execution_count": 142,
   "metadata": {},
   "outputs": [
    {
     "data": {
      "text/plain": [
       "17"
      ]
     },
     "execution_count": 142,
     "metadata": {},
     "output_type": "execute_result"
    }
   ],
   "source": [
    "df['nb_late_payments_3+months'].nunique()"
   ]
  },
  {
   "cell_type": "code",
   "execution_count": 143,
   "metadata": {},
   "outputs": [
    {
     "data": {
      "text/plain": [
       "<matplotlib.axes._subplots.AxesSubplot at 0x1173507b8>"
      ]
     },
     "execution_count": 143,
     "metadata": {},
     "output_type": "execute_result"
    },
    {
     "data": {
      "image/png": "[encoded data removed]",
      "text/plain": [
       "<matplotlib.figure.Figure at 0x11733f668>"
      ]
     },
     "metadata": {},
     "output_type": "display_data"
    }
   ],
   "source": [
    "# NOT VERY USEFUL BECAUSE DISTRIBUTION IS VERY SKEWED\n",
    "df['nb_late_payments_3+months'].plot(kind='hist')"
   ]
  },
  {
   "cell_type": "code",
   "execution_count": 144,
   "metadata": {},
   "outputs": [
    {
     "data": {
      "text/plain": [
       "17"
      ]
     },
     "execution_count": 144,
     "metadata": {},
     "output_type": "execute_result"
    }
   ],
   "source": [
    "df['nb_late_payments_3+months'].nunique()"
   ]
  },
  {
   "cell_type": "code",
   "execution_count": 145,
   "metadata": {},
   "outputs": [
    {
     "data": {
      "text/plain": [
       "array([ 0,  1,  4,  2,  3, 98,  5,  9,  6,  7,  8, 13, 12, 10, 14, 96, 11])"
      ]
     },
     "execution_count": 145,
     "metadata": {},
     "output_type": "execute_result"
    }
   ],
   "source": [
    "df['nb_late_payments_3+months'].unique()"
   ]
  },
  {
   "cell_type": "code",
   "execution_count": 146,
   "metadata": {},
   "outputs": [
    {
     "data": {
      "text/plain": [
       "0     42435\n",
       "1      1598\n",
       "2       493\n",
       "3       212\n",
       "4        93\n",
       "98       76\n",
       "6        29\n",
       "5        25\n",
       "7        16\n",
       "9         7\n",
       "8         6\n",
       "10        4\n",
       "13        2\n",
       "11        1\n",
       "12        1\n",
       "96        1\n",
       "14        1\n",
       "Name: nb_late_payments_3+months, dtype: int64"
      ]
     },
     "execution_count": 146,
     "metadata": {},
     "output_type": "execute_result"
    }
   ],
   "source": [
    "df['nb_late_payments_3+months'].value_counts()"
   ]
  },
  {
   "cell_type": "code",
   "execution_count": 147,
   "metadata": {},
   "outputs": [
    {
     "data": {
      "text/plain": [
       "<matplotlib.axes._subplots.AxesSubplot at 0x1173cd400>"
      ]
     },
     "execution_count": 147,
     "metadata": {},
     "output_type": "execute_result"
    },
    {
     "data": {
      "image/png": "[encoded data removed]",
      "text/plain": [
       "<matplotlib.figure.Figure at 0x11735bcf8>"
      ]
     },
     "metadata": {},
     "output_type": "display_data"
    }
   ],
   "source": [
    "df['nb_late_payments_3+months'].value_counts().plot(kind='bar')"
   ]
  },
  {
   "cell_type": "code",
   "execution_count": 148,
   "metadata": {},
   "outputs": [
    {
     "data": {
      "text/plain": [
       "0     42435\n",
       "1      1598\n",
       "2       493\n",
       "3       212\n",
       "4        93\n",
       "98       76\n",
       "6        29\n",
       "Name: nb_late_payments_3+months, dtype: int64"
      ]
     },
     "execution_count": 148,
     "metadata": {},
     "output_type": "execute_result"
    }
   ],
   "source": [
    "df['nb_late_payments_3+months'].value_counts().head(7)"
   ]
  },
  {
   "cell_type": "code",
   "execution_count": 149,
   "metadata": {},
   "outputs": [
    {
     "data": {
      "text/plain": [
       "13    2\n",
       "11    1\n",
       "12    1\n",
       "96    1\n",
       "14    1\n",
       "Name: nb_late_payments_3+months, dtype: int64"
      ]
     },
     "execution_count": 149,
     "metadata": {},
     "output_type": "execute_result"
    }
   ],
   "source": [
    "df['nb_late_payments_3+months'].value_counts().tail()"
   ]
  },
  {
   "cell_type": "code",
   "execution_count": 150,
   "metadata": {},
   "outputs": [
    {
     "data": {
      "text/plain": [
       "<matplotlib.axes._subplots.AxesSubplot at 0x1155a4390>"
      ]
     },
     "execution_count": 150,
     "metadata": {},
     "output_type": "execute_result"
    },
    {
     "data": {
      "image/png": "[encoded data removed]",
      "text/plain": [
       "<matplotlib.figure.Figure at 0x11733f358>"
      ]
     },
     "metadata": {},
     "output_type": "display_data"
    }
   ],
   "source": [
    "df['nb_late_payments_2months'].value_counts().plot(kind='bar')"
   ]
  },
  {
   "cell_type": "code",
   "execution_count": 151,
   "metadata": {},
   "outputs": [
    {
     "data": {
      "text/plain": [
       "5     9\n",
       "7     2\n",
       "6     2\n",
       "8     1\n",
       "96    1\n",
       "Name: nb_late_payments_2months, dtype: int64"
      ]
     },
     "execution_count": 151,
     "metadata": {},
     "output_type": "execute_result"
    }
   ],
   "source": [
    "df['nb_late_payments_2months'].value_counts().tail()"
   ]
  },
  {
   "cell_type": "markdown",
   "metadata": {},
   "source": [
    "### Explore relationship between 2 attributes\n",
    "This is useful for detecting *irrelevant* and *redundant* attributes."
   ]
  },
  {
   "cell_type": "markdown",
   "metadata": {},
   "source": [
    "- **two categorical** or **two discrete** attributes: 1) *contingency table*, i..e a table containing frequency of occurrence of each pair of values in the dataset. In Python we can obtain this table using ``pd.crosstab`` function. 2) stacked barplot.\n",
    "- **two numeric** attributes:\n",
    "1) use ``corr`` function to calculate their *linear correlation coefficient*. 2) visualize their joint distribution with a *scatterplot*.\n",
    "- **categorical** attribute and **numeric** attribute: \n",
    "1) multiple boxplots of the numeric attribute, one boxplot for each unique value of categorical attribute. 2) same thing but with histograms instead of boxplots."
   ]
  },
  {
   "cell_type": "code",
   "execution_count": 152,
   "metadata": {},
   "outputs": [
    {
     "data": {
      "text/html": [
       "<div>\n",
       "<style scoped>\n",
       "    .dataframe tbody tr th:only-of-type {\n",
       "        vertical-align: middle;\n",
       "    }\n",
       "\n",
       "    .dataframe tbody tr th {\n",
       "        vertical-align: top;\n",
       "    }\n",
       "\n",
       "    .dataframe thead th {\n",
       "        text-align: right;\n",
       "    }\n",
       "</style>\n",
       "<table border=\"1\" class=\"dataframe\">\n",
       "  <thead>\n",
       "    <tr style=\"text-align: right;\">\n",
       "      <th></th>\n",
       "      <th>ID</th>\n",
       "      <th>age</th>\n",
       "      <th>credit_card_balance_ratio</th>\n",
       "      <th>debt_ratio</th>\n",
       "      <th>defaulted</th>\n",
       "      <th>monthly_income</th>\n",
       "      <th>nb_dependents</th>\n",
       "      <th>nb_late_payments_1month</th>\n",
       "      <th>nb_late_payments_2months</th>\n",
       "      <th>nb_late_payments_3+months</th>\n",
       "      <th>nb_open_loans</th>\n",
       "      <th>nb_special_loans</th>\n",
       "    </tr>\n",
       "  </thead>\n",
       "  <tbody>\n",
       "    <tr>\n",
       "      <th>ID</th>\n",
       "      <td>1.000000</td>\n",
       "      <td>0.003556</td>\n",
       "      <td>-0.002816</td>\n",
       "      <td>-0.002751</td>\n",
       "      <td>0.004504</td>\n",
       "      <td>0.009053</td>\n",
       "      <td>0.004712</td>\n",
       "      <td>0.011903</td>\n",
       "      <td>0.010153</td>\n",
       "      <td>0.010790</td>\n",
       "      <td>0.002268</td>\n",
       "      <td>-0.002968</td>\n",
       "    </tr>\n",
       "    <tr>\n",
       "      <th>age</th>\n",
       "      <td>0.003556</td>\n",
       "      <td>1.000000</td>\n",
       "      <td>-0.009657</td>\n",
       "      <td>0.022994</td>\n",
       "      <td>-0.116388</td>\n",
       "      <td>0.042746</td>\n",
       "      <td>-0.212792</td>\n",
       "      <td>-0.067626</td>\n",
       "      <td>-0.062725</td>\n",
       "      <td>-0.067223</td>\n",
       "      <td>0.153980</td>\n",
       "      <td>0.034967</td>\n",
       "    </tr>\n",
       "    <tr>\n",
       "      <th>credit_card_balance_ratio</th>\n",
       "      <td>-0.002816</td>\n",
       "      <td>-0.009657</td>\n",
       "      <td>1.000000</td>\n",
       "      <td>0.000669</td>\n",
       "      <td>-0.001108</td>\n",
       "      <td>0.002954</td>\n",
       "      <td>0.005546</td>\n",
       "      <td>-0.002310</td>\n",
       "      <td>-0.001153</td>\n",
       "      <td>-0.001406</td>\n",
       "      <td>-0.013311</td>\n",
       "      <td>0.004651</td>\n",
       "    </tr>\n",
       "    <tr>\n",
       "      <th>debt_ratio</th>\n",
       "      <td>-0.002751</td>\n",
       "      <td>0.022994</td>\n",
       "      <td>0.000669</td>\n",
       "      <td>1.000000</td>\n",
       "      <td>-0.008636</td>\n",
       "      <td>-0.030381</td>\n",
       "      <td>-0.031952</td>\n",
       "      <td>-0.004643</td>\n",
       "      <td>-0.006110</td>\n",
       "      <td>-0.007066</td>\n",
       "      <td>0.045524</td>\n",
       "      <td>0.108934</td>\n",
       "    </tr>\n",
       "    <tr>\n",
       "      <th>defaulted</th>\n",
       "      <td>0.004504</td>\n",
       "      <td>-0.116388</td>\n",
       "      <td>-0.001108</td>\n",
       "      <td>-0.008636</td>\n",
       "      <td>1.000000</td>\n",
       "      <td>-0.020094</td>\n",
       "      <td>0.048143</td>\n",
       "      <td>0.125883</td>\n",
       "      <td>0.101213</td>\n",
       "      <td>0.116551</td>\n",
       "      <td>-0.022580</td>\n",
       "      <td>-0.015402</td>\n",
       "    </tr>\n",
       "    <tr>\n",
       "      <th>monthly_income</th>\n",
       "      <td>0.009053</td>\n",
       "      <td>0.042746</td>\n",
       "      <td>0.002954</td>\n",
       "      <td>-0.030381</td>\n",
       "      <td>-0.020094</td>\n",
       "      <td>1.000000</td>\n",
       "      <td>0.053809</td>\n",
       "      <td>-0.010518</td>\n",
       "      <td>-0.012140</td>\n",
       "      <td>-0.014056</td>\n",
       "      <td>0.101184</td>\n",
       "      <td>0.139091</td>\n",
       "    </tr>\n",
       "    <tr>\n",
       "      <th>nb_dependents</th>\n",
       "      <td>0.004712</td>\n",
       "      <td>-0.212792</td>\n",
       "      <td>0.005546</td>\n",
       "      <td>-0.031952</td>\n",
       "      <td>0.048143</td>\n",
       "      <td>0.053809</td>\n",
       "      <td>1.000000</td>\n",
       "      <td>-0.004822</td>\n",
       "      <td>-0.013345</td>\n",
       "      <td>-0.012188</td>\n",
       "      <td>0.058281</td>\n",
       "      <td>0.116096</td>\n",
       "    </tr>\n",
       "    <tr>\n",
       "      <th>nb_late_payments_1month</th>\n",
       "      <td>0.011903</td>\n",
       "      <td>-0.067626</td>\n",
       "      <td>-0.002310</td>\n",
       "      <td>-0.004643</td>\n",
       "      <td>0.125883</td>\n",
       "      <td>-0.010518</td>\n",
       "      <td>-0.004822</td>\n",
       "      <td>1.000000</td>\n",
       "      <td>0.986042</td>\n",
       "      <td>0.982265</td>\n",
       "      <td>-0.052295</td>\n",
       "      <td>-0.028583</td>\n",
       "    </tr>\n",
       "    <tr>\n",
       "      <th>nb_late_payments_2months</th>\n",
       "      <td>0.010153</td>\n",
       "      <td>-0.062725</td>\n",
       "      <td>-0.001153</td>\n",
       "      <td>-0.006110</td>\n",
       "      <td>0.101213</td>\n",
       "      <td>-0.012140</td>\n",
       "      <td>-0.013345</td>\n",
       "      <td>0.986042</td>\n",
       "      <td>1.000000</td>\n",
       "      <td>0.992195</td>\n",
       "      <td>-0.070165</td>\n",
       "      <td>-0.040036</td>\n",
       "    </tr>\n",
       "    <tr>\n",
       "      <th>nb_late_payments_3+months</th>\n",
       "      <td>0.010790</td>\n",
       "      <td>-0.067223</td>\n",
       "      <td>-0.001406</td>\n",
       "      <td>-0.007066</td>\n",
       "      <td>0.116551</td>\n",
       "      <td>-0.014056</td>\n",
       "      <td>-0.012188</td>\n",
       "      <td>0.982265</td>\n",
       "      <td>0.992195</td>\n",
       "      <td>1.000000</td>\n",
       "      <td>-0.079117</td>\n",
       "      <td>-0.045681</td>\n",
       "    </tr>\n",
       "    <tr>\n",
       "      <th>nb_open_loans</th>\n",
       "      <td>0.002268</td>\n",
       "      <td>0.153980</td>\n",
       "      <td>-0.013311</td>\n",
       "      <td>0.045524</td>\n",
       "      <td>-0.022580</td>\n",
       "      <td>0.101184</td>\n",
       "      <td>0.058281</td>\n",
       "      <td>-0.052295</td>\n",
       "      <td>-0.070165</td>\n",
       "      <td>-0.079117</td>\n",
       "      <td>1.000000</td>\n",
       "      <td>0.440842</td>\n",
       "    </tr>\n",
       "    <tr>\n",
       "      <th>nb_special_loans</th>\n",
       "      <td>-0.002968</td>\n",
       "      <td>0.034967</td>\n",
       "      <td>0.004651</td>\n",
       "      <td>0.108934</td>\n",
       "      <td>-0.015402</td>\n",
       "      <td>0.139091</td>\n",
       "      <td>0.116096</td>\n",
       "      <td>-0.028583</td>\n",
       "      <td>-0.040036</td>\n",
       "      <td>-0.045681</td>\n",
       "      <td>0.440842</td>\n",
       "      <td>1.000000</td>\n",
       "    </tr>\n",
       "  </tbody>\n",
       "</table>\n",
       "</div>"
      ],
      "text/plain": [
       "                                 ID       age  credit_card_balance_ratio  \\\n",
       "ID                         1.000000  0.003556                  -0.002816   \n",
       "age                        0.003556  1.000000                  -0.009657   \n",
       "credit_card_balance_ratio -0.002816 -0.009657                   1.000000   \n",
       "debt_ratio                -0.002751  0.022994                   0.000669   \n",
       "defaulted                  0.004504 -0.116388                  -0.001108   \n",
       "monthly_income             0.009053  0.042746                   0.002954   \n",
       "nb_dependents              0.004712 -0.212792                   0.005546   \n",
       "nb_late_payments_1month    0.011903 -0.067626                  -0.002310   \n",
       "nb_late_payments_2months   0.010153 -0.062725                  -0.001153   \n",
       "nb_late_payments_3+months  0.010790 -0.067223                  -0.001406   \n",
       "nb_open_loans              0.002268  0.153980                  -0.013311   \n",
       "nb_special_loans          -0.002968  0.034967                   0.004651   \n",
       "\n",
       "                           debt_ratio  defaulted  monthly_income  \\\n",
       "ID                          -0.002751   0.004504        0.009053   \n",
       "age                          0.022994  -0.116388        0.042746   \n",
       "credit_card_balance_ratio    0.000669  -0.001108        0.002954   \n",
       "debt_ratio                   1.000000  -0.008636       -0.030381   \n",
       "defaulted                   -0.008636   1.000000       -0.020094   \n",
       "monthly_income              -0.030381  -0.020094        1.000000   \n",
       "nb_dependents               -0.031952   0.048143        0.053809   \n",
       "nb_late_payments_1month     -0.004643   0.125883       -0.010518   \n",
       "nb_late_payments_2months    -0.006110   0.101213       -0.012140   \n",
       "nb_late_payments_3+months   -0.007066   0.116551       -0.014056   \n",
       "nb_open_loans                0.045524  -0.022580        0.101184   \n",
       "nb_special_loans             0.108934  -0.015402        0.139091   \n",
       "\n",
       "                           nb_dependents  nb_late_payments_1month  \\\n",
       "ID                              0.004712                 0.011903   \n",
       "age                            -0.212792                -0.067626   \n",
       "credit_card_balance_ratio       0.005546                -0.002310   \n",
       "debt_ratio                     -0.031952                -0.004643   \n",
       "defaulted                       0.048143                 0.125883   \n",
       "monthly_income                  0.053809                -0.010518   \n",
       "nb_dependents                   1.000000                -0.004822   \n",
       "nb_late_payments_1month        -0.004822                 1.000000   \n",
       "nb_late_payments_2months       -0.013345                 0.986042   \n",
       "nb_late_payments_3+months      -0.012188                 0.982265   \n",
       "nb_open_loans                   0.058281                -0.052295   \n",
       "nb_special_loans                0.116096                -0.028583   \n",
       "\n",
       "                           nb_late_payments_2months  \\\n",
       "ID                                         0.010153   \n",
       "age                                       -0.062725   \n",
       "credit_card_balance_ratio                 -0.001153   \n",
       "debt_ratio                                -0.006110   \n",
       "defaulted                                  0.101213   \n",
       "monthly_income                            -0.012140   \n",
       "nb_dependents                             -0.013345   \n",
       "nb_late_payments_1month                    0.986042   \n",
       "nb_late_payments_2months                   1.000000   \n",
       "nb_late_payments_3+months                  0.992195   \n",
       "nb_open_loans                             -0.070165   \n",
       "nb_special_loans                          -0.040036   \n",
       "\n",
       "                           nb_late_payments_3+months  nb_open_loans  \\\n",
       "ID                                          0.010790       0.002268   \n",
       "age                                        -0.067223       0.153980   \n",
       "credit_card_balance_ratio                  -0.001406      -0.013311   \n",
       "debt_ratio                                 -0.007066       0.045524   \n",
       "defaulted                                   0.116551      -0.022580   \n",
       "monthly_income                             -0.014056       0.101184   \n",
       "nb_dependents                              -0.012188       0.058281   \n",
       "nb_late_payments_1month                     0.982265      -0.052295   \n",
       "nb_late_payments_2months                    0.992195      -0.070165   \n",
       "nb_late_payments_3+months                   1.000000      -0.079117   \n",
       "nb_open_loans                              -0.079117       1.000000   \n",
       "nb_special_loans                           -0.045681       0.440842   \n",
       "\n",
       "                           nb_special_loans  \n",
       "ID                                -0.002968  \n",
       "age                                0.034967  \n",
       "credit_card_balance_ratio          0.004651  \n",
       "debt_ratio                         0.108934  \n",
       "defaulted                         -0.015402  \n",
       "monthly_income                     0.139091  \n",
       "nb_dependents                      0.116096  \n",
       "nb_late_payments_1month           -0.028583  \n",
       "nb_late_payments_2months          -0.040036  \n",
       "nb_late_payments_3+months         -0.045681  \n",
       "nb_open_loans                      0.440842  \n",
       "nb_special_loans                   1.000000  "
      ]
     },
     "execution_count": 152,
     "metadata": {},
     "output_type": "execute_result"
    }
   ],
   "source": [
    "df.corr()"
   ]
  },
  {
   "cell_type": "code",
   "execution_count": 153,
   "metadata": {},
   "outputs": [
    {
     "data": {
      "text/html": [
       "<div>\n",
       "<style scoped>\n",
       "    .dataframe tbody tr th:only-of-type {\n",
       "        vertical-align: middle;\n",
       "    }\n",
       "\n",
       "    .dataframe tbody tr th {\n",
       "        vertical-align: top;\n",
       "    }\n",
       "\n",
       "    .dataframe thead th {\n",
       "        text-align: right;\n",
       "    }\n",
       "</style>\n",
       "<table border=\"1\" class=\"dataframe\">\n",
       "  <thead>\n",
       "    <tr style=\"text-align: right;\">\n",
       "      <th>nb_dependents</th>\n",
       "      <th>0.0</th>\n",
       "      <th>1.0</th>\n",
       "      <th>2.0</th>\n",
       "      <th>3.0</th>\n",
       "      <th>4.0</th>\n",
       "      <th>5.0</th>\n",
       "      <th>6.0</th>\n",
       "      <th>7.0</th>\n",
       "      <th>8.0</th>\n",
       "      <th>9.0</th>\n",
       "      <th>20.0</th>\n",
       "    </tr>\n",
       "    <tr>\n",
       "      <th>defaulted</th>\n",
       "      <th></th>\n",
       "      <th></th>\n",
       "      <th></th>\n",
       "      <th></th>\n",
       "      <th></th>\n",
       "      <th></th>\n",
       "      <th></th>\n",
       "      <th></th>\n",
       "      <th></th>\n",
       "      <th></th>\n",
       "      <th></th>\n",
       "    </tr>\n",
       "  </thead>\n",
       "  <tbody>\n",
       "    <tr>\n",
       "      <th>0</th>\n",
       "      <td>24567</td>\n",
       "      <td>7261</td>\n",
       "      <td>5487</td>\n",
       "      <td>2558</td>\n",
       "      <td>772</td>\n",
       "      <td>213</td>\n",
       "      <td>45</td>\n",
       "      <td>17</td>\n",
       "      <td>8</td>\n",
       "      <td>1</td>\n",
       "      <td>1</td>\n",
       "    </tr>\n",
       "    <tr>\n",
       "      <th>1</th>\n",
       "      <td>1471</td>\n",
       "      <td>599</td>\n",
       "      <td>472</td>\n",
       "      <td>258</td>\n",
       "      <td>92</td>\n",
       "      <td>15</td>\n",
       "      <td>4</td>\n",
       "      <td>3</td>\n",
       "      <td>0</td>\n",
       "      <td>0</td>\n",
       "      <td>0</td>\n",
       "    </tr>\n",
       "  </tbody>\n",
       "</table>\n",
       "</div>"
      ],
      "text/plain": [
       "nb_dependents   0.0   1.0   2.0   3.0   4.0   5.0   6.0   7.0   8.0   9.0   \\\n",
       "defaulted                                                                    \n",
       "0              24567  7261  5487  2558   772   213    45    17     8     1   \n",
       "1               1471   599   472   258    92    15     4     3     0     0   \n",
       "\n",
       "nb_dependents  20.0  \n",
       "defaulted            \n",
       "0                 1  \n",
       "1                 0  "
      ]
     },
     "execution_count": 153,
     "metadata": {},
     "output_type": "execute_result"
    }
   ],
   "source": [
    "pd.crosstab(df.defaulted,df.nb_dependents)"
   ]
  },
  {
   "cell_type": "code",
   "execution_count": 154,
   "metadata": {},
   "outputs": [
    {
     "data": {
      "text/html": [
       "<div>\n",
       "<style scoped>\n",
       "    .dataframe tbody tr th:only-of-type {\n",
       "        vertical-align: middle;\n",
       "    }\n",
       "\n",
       "    .dataframe tbody tr th {\n",
       "        vertical-align: top;\n",
       "    }\n",
       "\n",
       "    .dataframe thead th {\n",
       "        text-align: right;\n",
       "    }\n",
       "</style>\n",
       "<table border=\"1\" class=\"dataframe\">\n",
       "  <thead>\n",
       "    <tr style=\"text-align: right;\">\n",
       "      <th>age</th>\n",
       "      <th>0</th>\n",
       "      <th>21</th>\n",
       "      <th>22</th>\n",
       "      <th>23</th>\n",
       "      <th>24</th>\n",
       "      <th>25</th>\n",
       "      <th>26</th>\n",
       "      <th>27</th>\n",
       "      <th>28</th>\n",
       "      <th>29</th>\n",
       "      <th>...</th>\n",
       "      <th>92</th>\n",
       "      <th>93</th>\n",
       "      <th>94</th>\n",
       "      <th>95</th>\n",
       "      <th>96</th>\n",
       "      <th>97</th>\n",
       "      <th>98</th>\n",
       "      <th>99</th>\n",
       "      <th>103</th>\n",
       "      <th>105</th>\n",
       "    </tr>\n",
       "    <tr>\n",
       "      <th>defaulted</th>\n",
       "      <th></th>\n",
       "      <th></th>\n",
       "      <th></th>\n",
       "      <th></th>\n",
       "      <th></th>\n",
       "      <th></th>\n",
       "      <th></th>\n",
       "      <th></th>\n",
       "      <th></th>\n",
       "      <th></th>\n",
       "      <th></th>\n",
       "      <th></th>\n",
       "      <th></th>\n",
       "      <th></th>\n",
       "      <th></th>\n",
       "      <th></th>\n",
       "      <th></th>\n",
       "      <th></th>\n",
       "      <th></th>\n",
       "      <th></th>\n",
       "      <th></th>\n",
       "    </tr>\n",
       "  </thead>\n",
       "  <tbody>\n",
       "    <tr>\n",
       "      <th>0</th>\n",
       "      <td>4</td>\n",
       "      <td>41</td>\n",
       "      <td>138</td>\n",
       "      <td>162</td>\n",
       "      <td>199</td>\n",
       "      <td>221</td>\n",
       "      <td>324</td>\n",
       "      <td>369</td>\n",
       "      <td>419</td>\n",
       "      <td>463</td>\n",
       "      <td>...</td>\n",
       "      <td>31</td>\n",
       "      <td>23</td>\n",
       "      <td>15</td>\n",
       "      <td>14</td>\n",
       "      <td>5</td>\n",
       "      <td>2</td>\n",
       "      <td>2</td>\n",
       "      <td>3</td>\n",
       "      <td>1</td>\n",
       "      <td>1</td>\n",
       "    </tr>\n",
       "    <tr>\n",
       "      <th>1</th>\n",
       "      <td>1</td>\n",
       "      <td>1</td>\n",
       "      <td>11</td>\n",
       "      <td>20</td>\n",
       "      <td>29</td>\n",
       "      <td>43</td>\n",
       "      <td>50</td>\n",
       "      <td>47</td>\n",
       "      <td>59</td>\n",
       "      <td>53</td>\n",
       "      <td>...</td>\n",
       "      <td>0</td>\n",
       "      <td>0</td>\n",
       "      <td>1</td>\n",
       "      <td>1</td>\n",
       "      <td>0</td>\n",
       "      <td>0</td>\n",
       "      <td>0</td>\n",
       "      <td>1</td>\n",
       "      <td>0</td>\n",
       "      <td>0</td>\n",
       "    </tr>\n",
       "  </tbody>\n",
       "</table>\n",
       "<p>2 rows × 82 columns</p>\n",
       "</div>"
      ],
      "text/plain": [
       "age        0    21   22   23   24   25   26   27   28   29  ...   92   93   \\\n",
       "defaulted                                                   ...              \n",
       "0            4   41  138  162  199  221  324  369  419  463 ...    31   23   \n",
       "1            1    1   11   20   29   43   50   47   59   53 ...     0    0   \n",
       "\n",
       "age        94   95   96   97   98   99   103  105  \n",
       "defaulted                                          \n",
       "0           15   14    5    2    2    3    1    1  \n",
       "1            1    1    0    0    0    1    0    0  \n",
       "\n",
       "[2 rows x 82 columns]"
      ]
     },
     "execution_count": 154,
     "metadata": {},
     "output_type": "execute_result"
    }
   ],
   "source": [
    "# crosstab is not very useful when one of the variables has too many values\n",
    "pd.crosstab(df.defaulted,df.age)"
   ]
  },
  {
   "cell_type": "markdown",
   "metadata": {},
   "source": [
    "## Task 3: Clean the data\n"
   ]
  },
  {
   "cell_type": "code",
   "execution_count": 155,
   "metadata": {
    "scrolled": true
   },
   "outputs": [
    {
     "name": "stdout",
     "output_type": "stream",
     "text": [
      "0.00011111111111111112\n"
     ]
    }
   ],
   "source": [
    "df9 = df[(df.age == 0)]\n",
    "df9.shape\n",
    "print((df[df.age == 0].shape[0])/45000)\n",
    "\n",
    "\n",
    "# for the attribute age, the number of invalid attributes is equal to 5"
   ]
  },
  {
   "cell_type": "code",
   "execution_count": 156,
   "metadata": {
    "scrolled": true
   },
   "outputs": [
    {
     "name": "stdout",
     "output_type": "stream",
     "text": [
      "(77, 15)\n",
      "0.0017111111111111112\n"
     ]
    }
   ],
   "source": [
    "df10 = df[((df.nb_late_payments_2months == 98) | (df.nb_late_payments_2months == 96))]\n",
    "print(df10.shape)\n",
    "print((df10.shape[0]/45000))\n",
    "# the number of invalid attributes in the original dataframe is 77 instances."
   ]
  },
  {
   "cell_type": "code",
   "execution_count": 157,
   "metadata": {},
   "outputs": [
    {
     "name": "stdout",
     "output_type": "stream",
     "text": [
      "9020\n",
      "0.20044444444444445\n"
     ]
    }
   ],
   "source": [
    "#for the monthly_income the number of missing values is 9020\n",
    "print(df[df.monthly_income.isna()==True].shape[0])\n",
    "print((df[df.monthly_income.isna()==True].shape[0]/45000))\n",
    "\n"
   ]
  },
  {
   "cell_type": "code",
   "execution_count": 158,
   "metadata": {
    "scrolled": true
   },
   "outputs": [
    {
     "name": "stdout",
     "output_type": "stream",
     "text": [
      "1156\n",
      "0.02568888888888889\n"
     ]
    }
   ],
   "source": [
    "# for the nb_dependents attribute\n",
    "print(df[df.nb_dependents.isna()==True].shape[0])\n",
    "print((df[df.nb_dependents.isna()==True].shape[0]/45000))"
   ]
  },
  {
   "cell_type": "code",
   "execution_count": 159,
   "metadata": {},
   "outputs": [],
   "source": [
    "# Replace all invalid and missing vlaues with the mean value of the corresponding attribute.\n",
    "df[df.monthly_income.isna()==True].monthly_income\n",
    "df.monthly_income=df.monthly_income.fillna(df.monthly_income.describe()[1]) #Replacing by the mean \n",
    "\n"
   ]
  },
  {
   "cell_type": "code",
   "execution_count": 160,
   "metadata": {},
   "outputs": [
    {
     "name": "stdout",
     "output_type": "stream",
     "text": [
      "0\n",
      "0.0\n"
     ]
    }
   ],
   "source": [
    "print(df[df.monthly_income.isna()==True].shape[0])\n",
    "print((df[df.monthly_income.isna()==True].shape[0]/45000))\n",
    "# There are no more missing values."
   ]
  },
  {
   "cell_type": "code",
   "execution_count": 161,
   "metadata": {},
   "outputs": [],
   "source": [
    "df.nb_dependents=df.nb_dependents.fillna(df.nb_dependents.describe()[1])\n"
   ]
  },
  {
   "cell_type": "code",
   "execution_count": 162,
   "metadata": {},
   "outputs": [
    {
     "name": "stdout",
     "output_type": "stream",
     "text": [
      "0\n",
      "0.0\n"
     ]
    }
   ],
   "source": [
    "print(df[df.monthly_income.isna()==True].shape[0])\n",
    "print((df[df.monthly_income.isna()==True].shape[0]/45000))\n",
    "#There are no more missing values in the monthly_income attribute"
   ]
  },
  {
   "cell_type": "code",
   "execution_count": 163,
   "metadata": {
    "scrolled": true
   },
   "outputs": [
    {
     "data": {
      "text/html": [
       "<div>\n",
       "<style scoped>\n",
       "    .dataframe tbody tr th:only-of-type {\n",
       "        vertical-align: middle;\n",
       "    }\n",
       "\n",
       "    .dataframe tbody tr th {\n",
       "        vertical-align: top;\n",
       "    }\n",
       "\n",
       "    .dataframe thead th {\n",
       "        text-align: right;\n",
       "    }\n",
       "</style>\n",
       "<table border=\"1\" class=\"dataframe\">\n",
       "  <thead>\n",
       "    <tr style=\"text-align: right;\">\n",
       "      <th></th>\n",
       "      <th>age_group</th>\n",
       "      <th>credit_card_balance_ratio</th>\n",
       "      <th>debt_ratio</th>\n",
       "      <th>defaulted</th>\n",
       "      <th>gender</th>\n",
       "      <th>marital_status</th>\n",
       "      <th>monthly_income</th>\n",
       "      <th>nb_dependents</th>\n",
       "      <th>nb_late_payments_1month</th>\n",
       "      <th>nb_late_payments_2months</th>\n",
       "      <th>nb_late_payments_3+months</th>\n",
       "      <th>nb_open_loans</th>\n",
       "      <th>nb_special_loans</th>\n",
       "    </tr>\n",
       "  </thead>\n",
       "  <tbody>\n",
       "    <tr>\n",
       "      <th>0</th>\n",
       "      <td>middle_aged</td>\n",
       "      <td>0.011639</td>\n",
       "      <td>0.053386</td>\n",
       "      <td>1</td>\n",
       "      <td>Male</td>\n",
       "      <td>married</td>\n",
       "      <td>3558.000000</td>\n",
       "      <td>2.0</td>\n",
       "      <td>0</td>\n",
       "      <td>0</td>\n",
       "      <td>0</td>\n",
       "      <td>5</td>\n",
       "      <td>0</td>\n",
       "    </tr>\n",
       "    <tr>\n",
       "      <th>1</th>\n",
       "      <td>young</td>\n",
       "      <td>0.031554</td>\n",
       "      <td>0.032146</td>\n",
       "      <td>0</td>\n",
       "      <td>Female</td>\n",
       "      <td>single</td>\n",
       "      <td>6625.000000</td>\n",
       "      <td>0.0</td>\n",
       "      <td>0</td>\n",
       "      <td>0</td>\n",
       "      <td>0</td>\n",
       "      <td>3</td>\n",
       "      <td>0</td>\n",
       "    </tr>\n",
       "    <tr>\n",
       "      <th>2</th>\n",
       "      <td>senior</td>\n",
       "      <td>1.000000</td>\n",
       "      <td>1.000000</td>\n",
       "      <td>0</td>\n",
       "      <td>Male</td>\n",
       "      <td>divorced</td>\n",
       "      <td>6675.478043</td>\n",
       "      <td>0.0</td>\n",
       "      <td>0</td>\n",
       "      <td>0</td>\n",
       "      <td>0</td>\n",
       "      <td>4</td>\n",
       "      <td>0</td>\n",
       "    </tr>\n",
       "    <tr>\n",
       "      <th>3</th>\n",
       "      <td>young</td>\n",
       "      <td>0.006666</td>\n",
       "      <td>4.000000</td>\n",
       "      <td>0</td>\n",
       "      <td>Male</td>\n",
       "      <td>married</td>\n",
       "      <td>6675.478043</td>\n",
       "      <td>0.0</td>\n",
       "      <td>0</td>\n",
       "      <td>0</td>\n",
       "      <td>0</td>\n",
       "      <td>2</td>\n",
       "      <td>0</td>\n",
       "    </tr>\n",
       "    <tr>\n",
       "      <th>4</th>\n",
       "      <td>young</td>\n",
       "      <td>0.097509</td>\n",
       "      <td>68.000000</td>\n",
       "      <td>0</td>\n",
       "      <td>Female</td>\n",
       "      <td>married</td>\n",
       "      <td>6675.478043</td>\n",
       "      <td>0.0</td>\n",
       "      <td>0</td>\n",
       "      <td>0</td>\n",
       "      <td>0</td>\n",
       "      <td>7</td>\n",
       "      <td>0</td>\n",
       "    </tr>\n",
       "    <tr>\n",
       "      <th>5</th>\n",
       "      <td>young</td>\n",
       "      <td>0.067539</td>\n",
       "      <td>0.197960</td>\n",
       "      <td>0</td>\n",
       "      <td>Male</td>\n",
       "      <td>married</td>\n",
       "      <td>5000.000000</td>\n",
       "      <td>0.0</td>\n",
       "      <td>0</td>\n",
       "      <td>0</td>\n",
       "      <td>0</td>\n",
       "      <td>5</td>\n",
       "      <td>1</td>\n",
       "    </tr>\n",
       "    <tr>\n",
       "      <th>6</th>\n",
       "      <td>middle_aged</td>\n",
       "      <td>0.679592</td>\n",
       "      <td>0.609742</td>\n",
       "      <td>0</td>\n",
       "      <td>Male</td>\n",
       "      <td>married</td>\n",
       "      <td>3530.000000</td>\n",
       "      <td>1.0</td>\n",
       "      <td>0</td>\n",
       "      <td>0</td>\n",
       "      <td>0</td>\n",
       "      <td>8</td>\n",
       "      <td>2</td>\n",
       "    </tr>\n",
       "    <tr>\n",
       "      <th>7</th>\n",
       "      <td>young</td>\n",
       "      <td>0.118976</td>\n",
       "      <td>0.034655</td>\n",
       "      <td>0</td>\n",
       "      <td>Male</td>\n",
       "      <td>married</td>\n",
       "      <td>3000.000000</td>\n",
       "      <td>0.0</td>\n",
       "      <td>0</td>\n",
       "      <td>0</td>\n",
       "      <td>0</td>\n",
       "      <td>4</td>\n",
       "      <td>0</td>\n",
       "    </tr>\n",
       "    <tr>\n",
       "      <th>8</th>\n",
       "      <td>senior</td>\n",
       "      <td>0.641684</td>\n",
       "      <td>0.950050</td>\n",
       "      <td>0</td>\n",
       "      <td>Female</td>\n",
       "      <td>single</td>\n",
       "      <td>1000.000000</td>\n",
       "      <td>0.0</td>\n",
       "      <td>1</td>\n",
       "      <td>0</td>\n",
       "      <td>0</td>\n",
       "      <td>6</td>\n",
       "      <td>0</td>\n",
       "    </tr>\n",
       "    <tr>\n",
       "      <th>9</th>\n",
       "      <td>middle_aged</td>\n",
       "      <td>0.041342</td>\n",
       "      <td>0.371101</td>\n",
       "      <td>0</td>\n",
       "      <td>Male</td>\n",
       "      <td>divorced</td>\n",
       "      <td>3750.000000</td>\n",
       "      <td>0.0</td>\n",
       "      <td>0</td>\n",
       "      <td>0</td>\n",
       "      <td>0</td>\n",
       "      <td>12</td>\n",
       "      <td>0</td>\n",
       "    </tr>\n",
       "    <tr>\n",
       "      <th>10</th>\n",
       "      <td>middle_aged</td>\n",
       "      <td>0.038046</td>\n",
       "      <td>0.004000</td>\n",
       "      <td>0</td>\n",
       "      <td>Female</td>\n",
       "      <td>single</td>\n",
       "      <td>10500.000000</td>\n",
       "      <td>0.0</td>\n",
       "      <td>0</td>\n",
       "      <td>0</td>\n",
       "      <td>0</td>\n",
       "      <td>15</td>\n",
       "      <td>0</td>\n",
       "    </tr>\n",
       "    <tr>\n",
       "      <th>11</th>\n",
       "      <td>middle_aged</td>\n",
       "      <td>0.141461</td>\n",
       "      <td>1623.000000</td>\n",
       "      <td>0</td>\n",
       "      <td>Female</td>\n",
       "      <td>married</td>\n",
       "      <td>6675.478043</td>\n",
       "      <td>2.0</td>\n",
       "      <td>0</td>\n",
       "      <td>0</td>\n",
       "      <td>0</td>\n",
       "      <td>9</td>\n",
       "      <td>1</td>\n",
       "    </tr>\n",
       "    <tr>\n",
       "      <th>12</th>\n",
       "      <td>middle_aged</td>\n",
       "      <td>0.027279</td>\n",
       "      <td>1726.000000</td>\n",
       "      <td>0</td>\n",
       "      <td>Female</td>\n",
       "      <td>married</td>\n",
       "      <td>6675.478043</td>\n",
       "      <td>4.0</td>\n",
       "      <td>0</td>\n",
       "      <td>0</td>\n",
       "      <td>0</td>\n",
       "      <td>4</td>\n",
       "      <td>1</td>\n",
       "    </tr>\n",
       "    <tr>\n",
       "      <th>13</th>\n",
       "      <td>middle_aged</td>\n",
       "      <td>0.019633</td>\n",
       "      <td>0.003399</td>\n",
       "      <td>0</td>\n",
       "      <td>Male</td>\n",
       "      <td>divorced</td>\n",
       "      <td>5000.000000</td>\n",
       "      <td>0.0</td>\n",
       "      <td>0</td>\n",
       "      <td>0</td>\n",
       "      <td>0</td>\n",
       "      <td>7</td>\n",
       "      <td>0</td>\n",
       "    </tr>\n",
       "    <tr>\n",
       "      <th>14</th>\n",
       "      <td>middle_aged</td>\n",
       "      <td>0.148206</td>\n",
       "      <td>1209.000000</td>\n",
       "      <td>0</td>\n",
       "      <td>Male</td>\n",
       "      <td>married</td>\n",
       "      <td>6675.478043</td>\n",
       "      <td>2.0</td>\n",
       "      <td>0</td>\n",
       "      <td>1</td>\n",
       "      <td>0</td>\n",
       "      <td>11</td>\n",
       "      <td>2</td>\n",
       "    </tr>\n",
       "    <tr>\n",
       "      <th>15</th>\n",
       "      <td>young</td>\n",
       "      <td>0.377303</td>\n",
       "      <td>0.377719</td>\n",
       "      <td>0</td>\n",
       "      <td>Male</td>\n",
       "      <td>unspecified</td>\n",
       "      <td>10250.000000</td>\n",
       "      <td>2.0</td>\n",
       "      <td>0</td>\n",
       "      <td>0</td>\n",
       "      <td>0</td>\n",
       "      <td>12</td>\n",
       "      <td>2</td>\n",
       "    </tr>\n",
       "    <tr>\n",
       "      <th>16</th>\n",
       "      <td>middle_aged</td>\n",
       "      <td>0.009980</td>\n",
       "      <td>0.012044</td>\n",
       "      <td>0</td>\n",
       "      <td>Female</td>\n",
       "      <td>single</td>\n",
       "      <td>2739.000000</td>\n",
       "      <td>0.0</td>\n",
       "      <td>0</td>\n",
       "      <td>0</td>\n",
       "      <td>0</td>\n",
       "      <td>4</td>\n",
       "      <td>0</td>\n",
       "    </tr>\n",
       "    <tr>\n",
       "      <th>17</th>\n",
       "      <td>middle_aged</td>\n",
       "      <td>0.034666</td>\n",
       "      <td>107.000000</td>\n",
       "      <td>0</td>\n",
       "      <td>Male</td>\n",
       "      <td>married</td>\n",
       "      <td>6675.478043</td>\n",
       "      <td>0.0</td>\n",
       "      <td>0</td>\n",
       "      <td>0</td>\n",
       "      <td>0</td>\n",
       "      <td>9</td>\n",
       "      <td>0</td>\n",
       "    </tr>\n",
       "    <tr>\n",
       "      <th>18</th>\n",
       "      <td>young</td>\n",
       "      <td>0.000000</td>\n",
       "      <td>0.000000</td>\n",
       "      <td>0</td>\n",
       "      <td>Female</td>\n",
       "      <td>married</td>\n",
       "      <td>4311.000000</td>\n",
       "      <td>0.0</td>\n",
       "      <td>0</td>\n",
       "      <td>0</td>\n",
       "      <td>0</td>\n",
       "      <td>3</td>\n",
       "      <td>0</td>\n",
       "    </tr>\n",
       "    <tr>\n",
       "      <th>19</th>\n",
       "      <td>middle_aged</td>\n",
       "      <td>0.232969</td>\n",
       "      <td>0.108534</td>\n",
       "      <td>0</td>\n",
       "      <td>Male</td>\n",
       "      <td>unspecified</td>\n",
       "      <td>5776.000000</td>\n",
       "      <td>1.0</td>\n",
       "      <td>0</td>\n",
       "      <td>0</td>\n",
       "      <td>0</td>\n",
       "      <td>5</td>\n",
       "      <td>0</td>\n",
       "    </tr>\n",
       "    <tr>\n",
       "      <th>20</th>\n",
       "      <td>middle_aged</td>\n",
       "      <td>0.000000</td>\n",
       "      <td>0.212424</td>\n",
       "      <td>0</td>\n",
       "      <td>Female</td>\n",
       "      <td>married</td>\n",
       "      <td>2800.000000</td>\n",
       "      <td>5.0</td>\n",
       "      <td>0</td>\n",
       "      <td>0</td>\n",
       "      <td>0</td>\n",
       "      <td>3</td>\n",
       "      <td>0</td>\n",
       "    </tr>\n",
       "    <tr>\n",
       "      <th>21</th>\n",
       "      <td>middle_aged</td>\n",
       "      <td>0.061297</td>\n",
       "      <td>0.232578</td>\n",
       "      <td>0</td>\n",
       "      <td>Male</td>\n",
       "      <td>unspecified</td>\n",
       "      <td>8250.000000</td>\n",
       "      <td>0.0</td>\n",
       "      <td>0</td>\n",
       "      <td>0</td>\n",
       "      <td>0</td>\n",
       "      <td>8</td>\n",
       "      <td>2</td>\n",
       "    </tr>\n",
       "    <tr>\n",
       "      <th>22</th>\n",
       "      <td>young</td>\n",
       "      <td>0.000000</td>\n",
       "      <td>0.083983</td>\n",
       "      <td>0</td>\n",
       "      <td>Male</td>\n",
       "      <td>single</td>\n",
       "      <td>5000.000000</td>\n",
       "      <td>0.0</td>\n",
       "      <td>0</td>\n",
       "      <td>0</td>\n",
       "      <td>0</td>\n",
       "      <td>4</td>\n",
       "      <td>0</td>\n",
       "    </tr>\n",
       "    <tr>\n",
       "      <th>23</th>\n",
       "      <td>middle_aged</td>\n",
       "      <td>1.000000</td>\n",
       "      <td>0.542104</td>\n",
       "      <td>0</td>\n",
       "      <td>Female</td>\n",
       "      <td>married</td>\n",
       "      <td>14000.000000</td>\n",
       "      <td>2.0</td>\n",
       "      <td>0</td>\n",
       "      <td>0</td>\n",
       "      <td>0</td>\n",
       "      <td>9</td>\n",
       "      <td>2</td>\n",
       "    </tr>\n",
       "    <tr>\n",
       "      <th>24</th>\n",
       "      <td>senior</td>\n",
       "      <td>0.034098</td>\n",
       "      <td>0.804237</td>\n",
       "      <td>0</td>\n",
       "      <td>Female</td>\n",
       "      <td>married</td>\n",
       "      <td>2548.000000</td>\n",
       "      <td>0.0</td>\n",
       "      <td>0</td>\n",
       "      <td>0</td>\n",
       "      <td>0</td>\n",
       "      <td>11</td>\n",
       "      <td>1</td>\n",
       "    </tr>\n",
       "    <tr>\n",
       "      <th>25</th>\n",
       "      <td>middle_aged</td>\n",
       "      <td>0.005142</td>\n",
       "      <td>0.277864</td>\n",
       "      <td>0</td>\n",
       "      <td>Female</td>\n",
       "      <td>married</td>\n",
       "      <td>3875.000000</td>\n",
       "      <td>0.0</td>\n",
       "      <td>0</td>\n",
       "      <td>0</td>\n",
       "      <td>0</td>\n",
       "      <td>7</td>\n",
       "      <td>2</td>\n",
       "    </tr>\n",
       "    <tr>\n",
       "      <th>26</th>\n",
       "      <td>middle_aged</td>\n",
       "      <td>0.866541</td>\n",
       "      <td>0.844848</td>\n",
       "      <td>0</td>\n",
       "      <td>Male</td>\n",
       "      <td>married</td>\n",
       "      <td>2590.000000</td>\n",
       "      <td>0.0</td>\n",
       "      <td>0</td>\n",
       "      <td>0</td>\n",
       "      <td>1</td>\n",
       "      <td>12</td>\n",
       "      <td>1</td>\n",
       "    </tr>\n",
       "    <tr>\n",
       "      <th>27</th>\n",
       "      <td>middle_aged</td>\n",
       "      <td>0.232553</td>\n",
       "      <td>0.467896</td>\n",
       "      <td>0</td>\n",
       "      <td>Female</td>\n",
       "      <td>single</td>\n",
       "      <td>4500.000000</td>\n",
       "      <td>0.0</td>\n",
       "      <td>1</td>\n",
       "      <td>0</td>\n",
       "      <td>0</td>\n",
       "      <td>9</td>\n",
       "      <td>1</td>\n",
       "    </tr>\n",
       "    <tr>\n",
       "      <th>28</th>\n",
       "      <td>middle_aged</td>\n",
       "      <td>0.181776</td>\n",
       "      <td>0.168139</td>\n",
       "      <td>0</td>\n",
       "      <td>Male</td>\n",
       "      <td>married</td>\n",
       "      <td>6000.000000</td>\n",
       "      <td>1.0</td>\n",
       "      <td>0</td>\n",
       "      <td>1</td>\n",
       "      <td>0</td>\n",
       "      <td>15</td>\n",
       "      <td>0</td>\n",
       "    </tr>\n",
       "    <tr>\n",
       "      <th>29</th>\n",
       "      <td>middle_aged</td>\n",
       "      <td>1.000000</td>\n",
       "      <td>0.000000</td>\n",
       "      <td>0</td>\n",
       "      <td>Female</td>\n",
       "      <td>single</td>\n",
       "      <td>7250.000000</td>\n",
       "      <td>1.0</td>\n",
       "      <td>0</td>\n",
       "      <td>0</td>\n",
       "      <td>0</td>\n",
       "      <td>1</td>\n",
       "      <td>0</td>\n",
       "    </tr>\n",
       "    <tr>\n",
       "      <th>...</th>\n",
       "      <td>...</td>\n",
       "      <td>...</td>\n",
       "      <td>...</td>\n",
       "      <td>...</td>\n",
       "      <td>...</td>\n",
       "      <td>...</td>\n",
       "      <td>...</td>\n",
       "      <td>...</td>\n",
       "      <td>...</td>\n",
       "      <td>...</td>\n",
       "      <td>...</td>\n",
       "      <td>...</td>\n",
       "      <td>...</td>\n",
       "    </tr>\n",
       "    <tr>\n",
       "      <th>44970</th>\n",
       "      <td>middle_aged</td>\n",
       "      <td>0.390855</td>\n",
       "      <td>0.629898</td>\n",
       "      <td>0</td>\n",
       "      <td>Female</td>\n",
       "      <td>married</td>\n",
       "      <td>6200.000000</td>\n",
       "      <td>1.0</td>\n",
       "      <td>0</td>\n",
       "      <td>1</td>\n",
       "      <td>0</td>\n",
       "      <td>22</td>\n",
       "      <td>1</td>\n",
       "    </tr>\n",
       "    <tr>\n",
       "      <th>44971</th>\n",
       "      <td>middle_aged</td>\n",
       "      <td>0.000000</td>\n",
       "      <td>1057.000000</td>\n",
       "      <td>0</td>\n",
       "      <td>Male</td>\n",
       "      <td>unspecified</td>\n",
       "      <td>6675.478043</td>\n",
       "      <td>0.0</td>\n",
       "      <td>0</td>\n",
       "      <td>0</td>\n",
       "      <td>0</td>\n",
       "      <td>7</td>\n",
       "      <td>2</td>\n",
       "    </tr>\n",
       "    <tr>\n",
       "      <th>44972</th>\n",
       "      <td>middle_aged</td>\n",
       "      <td>0.639272</td>\n",
       "      <td>0.622076</td>\n",
       "      <td>0</td>\n",
       "      <td>Female</td>\n",
       "      <td>married</td>\n",
       "      <td>5000.000000</td>\n",
       "      <td>2.0</td>\n",
       "      <td>0</td>\n",
       "      <td>0</td>\n",
       "      <td>0</td>\n",
       "      <td>3</td>\n",
       "      <td>1</td>\n",
       "    </tr>\n",
       "    <tr>\n",
       "      <th>44973</th>\n",
       "      <td>young</td>\n",
       "      <td>0.012142</td>\n",
       "      <td>1.450430</td>\n",
       "      <td>0</td>\n",
       "      <td>Female</td>\n",
       "      <td>widowed</td>\n",
       "      <td>3600.000000</td>\n",
       "      <td>0.0</td>\n",
       "      <td>0</td>\n",
       "      <td>0</td>\n",
       "      <td>0</td>\n",
       "      <td>11</td>\n",
       "      <td>2</td>\n",
       "    </tr>\n",
       "    <tr>\n",
       "      <th>44974</th>\n",
       "      <td>middle_aged</td>\n",
       "      <td>0.081216</td>\n",
       "      <td>0.335520</td>\n",
       "      <td>0</td>\n",
       "      <td>Female</td>\n",
       "      <td>single</td>\n",
       "      <td>3200.000000</td>\n",
       "      <td>0.0</td>\n",
       "      <td>0</td>\n",
       "      <td>0</td>\n",
       "      <td>0</td>\n",
       "      <td>8</td>\n",
       "      <td>1</td>\n",
       "    </tr>\n",
       "    <tr>\n",
       "      <th>44975</th>\n",
       "      <td>young</td>\n",
       "      <td>0.728411</td>\n",
       "      <td>0.891460</td>\n",
       "      <td>0</td>\n",
       "      <td>Male</td>\n",
       "      <td>married</td>\n",
       "      <td>3500.000000</td>\n",
       "      <td>1.0</td>\n",
       "      <td>0</td>\n",
       "      <td>0</td>\n",
       "      <td>0</td>\n",
       "      <td>11</td>\n",
       "      <td>1</td>\n",
       "    </tr>\n",
       "    <tr>\n",
       "      <th>44976</th>\n",
       "      <td>young</td>\n",
       "      <td>0.013318</td>\n",
       "      <td>0.122376</td>\n",
       "      <td>0</td>\n",
       "      <td>Female</td>\n",
       "      <td>widowed</td>\n",
       "      <td>5049.000000</td>\n",
       "      <td>0.0</td>\n",
       "      <td>0</td>\n",
       "      <td>0</td>\n",
       "      <td>0</td>\n",
       "      <td>6</td>\n",
       "      <td>0</td>\n",
       "    </tr>\n",
       "    <tr>\n",
       "      <th>44977</th>\n",
       "      <td>middle_aged</td>\n",
       "      <td>0.372747</td>\n",
       "      <td>0.788602</td>\n",
       "      <td>0</td>\n",
       "      <td>Male</td>\n",
       "      <td>married</td>\n",
       "      <td>7000.000000</td>\n",
       "      <td>0.0</td>\n",
       "      <td>0</td>\n",
       "      <td>0</td>\n",
       "      <td>0</td>\n",
       "      <td>16</td>\n",
       "      <td>1</td>\n",
       "    </tr>\n",
       "    <tr>\n",
       "      <th>44978</th>\n",
       "      <td>senior</td>\n",
       "      <td>1.000000</td>\n",
       "      <td>0.000000</td>\n",
       "      <td>0</td>\n",
       "      <td>Male</td>\n",
       "      <td>married</td>\n",
       "      <td>1996.000000</td>\n",
       "      <td>0.0</td>\n",
       "      <td>0</td>\n",
       "      <td>0</td>\n",
       "      <td>0</td>\n",
       "      <td>0</td>\n",
       "      <td>0</td>\n",
       "    </tr>\n",
       "    <tr>\n",
       "      <th>44979</th>\n",
       "      <td>young</td>\n",
       "      <td>0.124295</td>\n",
       "      <td>0.569705</td>\n",
       "      <td>0</td>\n",
       "      <td>Male</td>\n",
       "      <td>married</td>\n",
       "      <td>8700.000000</td>\n",
       "      <td>0.0</td>\n",
       "      <td>0</td>\n",
       "      <td>0</td>\n",
       "      <td>0</td>\n",
       "      <td>8</td>\n",
       "      <td>2</td>\n",
       "    </tr>\n",
       "    <tr>\n",
       "      <th>44980</th>\n",
       "      <td>middle_aged</td>\n",
       "      <td>0.002919</td>\n",
       "      <td>0.238269</td>\n",
       "      <td>1</td>\n",
       "      <td>Male</td>\n",
       "      <td>widowed</td>\n",
       "      <td>9333.000000</td>\n",
       "      <td>5.0</td>\n",
       "      <td>4</td>\n",
       "      <td>0</td>\n",
       "      <td>0</td>\n",
       "      <td>7</td>\n",
       "      <td>1</td>\n",
       "    </tr>\n",
       "    <tr>\n",
       "      <th>44981</th>\n",
       "      <td>senior</td>\n",
       "      <td>0.024401</td>\n",
       "      <td>1631.000000</td>\n",
       "      <td>0</td>\n",
       "      <td>Female</td>\n",
       "      <td>married</td>\n",
       "      <td>6675.478043</td>\n",
       "      <td>0.0</td>\n",
       "      <td>0</td>\n",
       "      <td>0</td>\n",
       "      <td>0</td>\n",
       "      <td>18</td>\n",
       "      <td>2</td>\n",
       "    </tr>\n",
       "    <tr>\n",
       "      <th>44982</th>\n",
       "      <td>young</td>\n",
       "      <td>0.000000</td>\n",
       "      <td>0.251763</td>\n",
       "      <td>0</td>\n",
       "      <td>Female</td>\n",
       "      <td>divorced</td>\n",
       "      <td>7800.000000</td>\n",
       "      <td>3.0</td>\n",
       "      <td>0</td>\n",
       "      <td>0</td>\n",
       "      <td>0</td>\n",
       "      <td>7</td>\n",
       "      <td>2</td>\n",
       "    </tr>\n",
       "    <tr>\n",
       "      <th>44983</th>\n",
       "      <td>senior</td>\n",
       "      <td>0.106854</td>\n",
       "      <td>0.021433</td>\n",
       "      <td>0</td>\n",
       "      <td>Male</td>\n",
       "      <td>widowed</td>\n",
       "      <td>5178.000000</td>\n",
       "      <td>1.0</td>\n",
       "      <td>0</td>\n",
       "      <td>0</td>\n",
       "      <td>0</td>\n",
       "      <td>6</td>\n",
       "      <td>0</td>\n",
       "    </tr>\n",
       "    <tr>\n",
       "      <th>44984</th>\n",
       "      <td>young</td>\n",
       "      <td>0.346337</td>\n",
       "      <td>0.554137</td>\n",
       "      <td>0</td>\n",
       "      <td>Male</td>\n",
       "      <td>widowed</td>\n",
       "      <td>1800.000000</td>\n",
       "      <td>0.0</td>\n",
       "      <td>0</td>\n",
       "      <td>0</td>\n",
       "      <td>0</td>\n",
       "      <td>3</td>\n",
       "      <td>1</td>\n",
       "    </tr>\n",
       "    <tr>\n",
       "      <th>44985</th>\n",
       "      <td>middle_aged</td>\n",
       "      <td>0.843492</td>\n",
       "      <td>0.577304</td>\n",
       "      <td>0</td>\n",
       "      <td>Male</td>\n",
       "      <td>married</td>\n",
       "      <td>7075.000000</td>\n",
       "      <td>1.0</td>\n",
       "      <td>0</td>\n",
       "      <td>0</td>\n",
       "      <td>0</td>\n",
       "      <td>15</td>\n",
       "      <td>1</td>\n",
       "    </tr>\n",
       "    <tr>\n",
       "      <th>44986</th>\n",
       "      <td>middle_aged</td>\n",
       "      <td>0.615545</td>\n",
       "      <td>0.263807</td>\n",
       "      <td>0</td>\n",
       "      <td>Male</td>\n",
       "      <td>single</td>\n",
       "      <td>8600.000000</td>\n",
       "      <td>3.0</td>\n",
       "      <td>0</td>\n",
       "      <td>0</td>\n",
       "      <td>0</td>\n",
       "      <td>8</td>\n",
       "      <td>2</td>\n",
       "    </tr>\n",
       "    <tr>\n",
       "      <th>44987</th>\n",
       "      <td>middle_aged</td>\n",
       "      <td>0.737020</td>\n",
       "      <td>1.285165</td>\n",
       "      <td>0</td>\n",
       "      <td>Female</td>\n",
       "      <td>divorced</td>\n",
       "      <td>1300.000000</td>\n",
       "      <td>2.0</td>\n",
       "      <td>1</td>\n",
       "      <td>0</td>\n",
       "      <td>0</td>\n",
       "      <td>9</td>\n",
       "      <td>0</td>\n",
       "    </tr>\n",
       "    <tr>\n",
       "      <th>44988</th>\n",
       "      <td>young</td>\n",
       "      <td>0.900332</td>\n",
       "      <td>0.192321</td>\n",
       "      <td>0</td>\n",
       "      <td>Male</td>\n",
       "      <td>single</td>\n",
       "      <td>5833.000000</td>\n",
       "      <td>3.0</td>\n",
       "      <td>0</td>\n",
       "      <td>0</td>\n",
       "      <td>0</td>\n",
       "      <td>4</td>\n",
       "      <td>0</td>\n",
       "    </tr>\n",
       "    <tr>\n",
       "      <th>44989</th>\n",
       "      <td>senior</td>\n",
       "      <td>0.847820</td>\n",
       "      <td>0.211697</td>\n",
       "      <td>0</td>\n",
       "      <td>Female</td>\n",
       "      <td>divorced</td>\n",
       "      <td>4000.000000</td>\n",
       "      <td>0.0</td>\n",
       "      <td>0</td>\n",
       "      <td>0</td>\n",
       "      <td>0</td>\n",
       "      <td>8</td>\n",
       "      <td>0</td>\n",
       "    </tr>\n",
       "    <tr>\n",
       "      <th>44990</th>\n",
       "      <td>middle_aged</td>\n",
       "      <td>0.109057</td>\n",
       "      <td>0.227150</td>\n",
       "      <td>0</td>\n",
       "      <td>Female</td>\n",
       "      <td>single</td>\n",
       "      <td>8500.000000</td>\n",
       "      <td>4.0</td>\n",
       "      <td>0</td>\n",
       "      <td>0</td>\n",
       "      <td>0</td>\n",
       "      <td>6</td>\n",
       "      <td>1</td>\n",
       "    </tr>\n",
       "    <tr>\n",
       "      <th>44991</th>\n",
       "      <td>young</td>\n",
       "      <td>1.000000</td>\n",
       "      <td>0.000000</td>\n",
       "      <td>0</td>\n",
       "      <td>Female</td>\n",
       "      <td>married</td>\n",
       "      <td>2900.000000</td>\n",
       "      <td>3.0</td>\n",
       "      <td>0</td>\n",
       "      <td>0</td>\n",
       "      <td>1</td>\n",
       "      <td>0</td>\n",
       "      <td>0</td>\n",
       "    </tr>\n",
       "    <tr>\n",
       "      <th>44992</th>\n",
       "      <td>middle_aged</td>\n",
       "      <td>0.175301</td>\n",
       "      <td>856.000000</td>\n",
       "      <td>0</td>\n",
       "      <td>Male</td>\n",
       "      <td>divorced</td>\n",
       "      <td>6675.478043</td>\n",
       "      <td>0.0</td>\n",
       "      <td>0</td>\n",
       "      <td>0</td>\n",
       "      <td>0</td>\n",
       "      <td>7</td>\n",
       "      <td>0</td>\n",
       "    </tr>\n",
       "    <tr>\n",
       "      <th>44993</th>\n",
       "      <td>middle_aged</td>\n",
       "      <td>1.000000</td>\n",
       "      <td>69.000000</td>\n",
       "      <td>0</td>\n",
       "      <td>Female</td>\n",
       "      <td>married</td>\n",
       "      <td>6675.478043</td>\n",
       "      <td>0.0</td>\n",
       "      <td>0</td>\n",
       "      <td>0</td>\n",
       "      <td>1</td>\n",
       "      <td>0</td>\n",
       "      <td>0</td>\n",
       "    </tr>\n",
       "    <tr>\n",
       "      <th>44994</th>\n",
       "      <td>young</td>\n",
       "      <td>0.531367</td>\n",
       "      <td>0.078652</td>\n",
       "      <td>0</td>\n",
       "      <td>Male</td>\n",
       "      <td>divorced</td>\n",
       "      <td>800.000000</td>\n",
       "      <td>0.0</td>\n",
       "      <td>0</td>\n",
       "      <td>0</td>\n",
       "      <td>0</td>\n",
       "      <td>2</td>\n",
       "      <td>0</td>\n",
       "    </tr>\n",
       "    <tr>\n",
       "      <th>44995</th>\n",
       "      <td>senior</td>\n",
       "      <td>0.477849</td>\n",
       "      <td>0.282233</td>\n",
       "      <td>0</td>\n",
       "      <td>Male</td>\n",
       "      <td>widowed</td>\n",
       "      <td>4800.000000</td>\n",
       "      <td>0.0</td>\n",
       "      <td>0</td>\n",
       "      <td>0</td>\n",
       "      <td>0</td>\n",
       "      <td>12</td>\n",
       "      <td>0</td>\n",
       "    </tr>\n",
       "    <tr>\n",
       "      <th>44996</th>\n",
       "      <td>middle_aged</td>\n",
       "      <td>0.868603</td>\n",
       "      <td>1735.000000</td>\n",
       "      <td>0</td>\n",
       "      <td>Male</td>\n",
       "      <td>divorced</td>\n",
       "      <td>6675.478043</td>\n",
       "      <td>0.0</td>\n",
       "      <td>3</td>\n",
       "      <td>1</td>\n",
       "      <td>0</td>\n",
       "      <td>14</td>\n",
       "      <td>2</td>\n",
       "    </tr>\n",
       "    <tr>\n",
       "      <th>44997</th>\n",
       "      <td>middle_aged</td>\n",
       "      <td>1.613969</td>\n",
       "      <td>1928.000000</td>\n",
       "      <td>1</td>\n",
       "      <td>Female</td>\n",
       "      <td>single</td>\n",
       "      <td>6675.478043</td>\n",
       "      <td>3.0</td>\n",
       "      <td>5</td>\n",
       "      <td>0</td>\n",
       "      <td>1</td>\n",
       "      <td>5</td>\n",
       "      <td>0</td>\n",
       "    </tr>\n",
       "    <tr>\n",
       "      <th>44998</th>\n",
       "      <td>middle_aged</td>\n",
       "      <td>0.238856</td>\n",
       "      <td>0.092586</td>\n",
       "      <td>0</td>\n",
       "      <td>Male</td>\n",
       "      <td>single</td>\n",
       "      <td>5421.000000</td>\n",
       "      <td>0.0</td>\n",
       "      <td>1</td>\n",
       "      <td>0</td>\n",
       "      <td>0</td>\n",
       "      <td>10</td>\n",
       "      <td>0</td>\n",
       "    </tr>\n",
       "    <tr>\n",
       "      <th>44999</th>\n",
       "      <td>middle_aged</td>\n",
       "      <td>0.263816</td>\n",
       "      <td>0.308347</td>\n",
       "      <td>0</td>\n",
       "      <td>Male</td>\n",
       "      <td>divorced</td>\n",
       "      <td>5642.000000</td>\n",
       "      <td>2.0</td>\n",
       "      <td>0</td>\n",
       "      <td>0</td>\n",
       "      <td>0</td>\n",
       "      <td>7</td>\n",
       "      <td>1</td>\n",
       "    </tr>\n",
       "  </tbody>\n",
       "</table>\n",
       "<p>45000 rows × 13 columns</p>\n",
       "</div>"
      ],
      "text/plain": [
       "         age_group  credit_card_balance_ratio   debt_ratio  defaulted  gender  \\\n",
       "0      middle_aged                   0.011639     0.053386          1    Male   \n",
       "1            young                   0.031554     0.032146          0  Female   \n",
       "2           senior                   1.000000     1.000000          0    Male   \n",
       "3            young                   0.006666     4.000000          0    Male   \n",
       "4            young                   0.097509    68.000000          0  Female   \n",
       "5            young                   0.067539     0.197960          0    Male   \n",
       "6      middle_aged                   0.679592     0.609742          0    Male   \n",
       "7            young                   0.118976     0.034655          0    Male   \n",
       "8           senior                   0.641684     0.950050          0  Female   \n",
       "9      middle_aged                   0.041342     0.371101          0    Male   \n",
       "10     middle_aged                   0.038046     0.004000          0  Female   \n",
       "11     middle_aged                   0.141461  1623.000000          0  Female   \n",
       "12     middle_aged                   0.027279  1726.000000          0  Female   \n",
       "13     middle_aged                   0.019633     0.003399          0    Male   \n",
       "14     middle_aged                   0.148206  1209.000000          0    Male   \n",
       "15           young                   0.377303     0.377719          0    Male   \n",
       "16     middle_aged                   0.009980     0.012044          0  Female   \n",
       "17     middle_aged                   0.034666   107.000000          0    Male   \n",
       "18           young                   0.000000     0.000000          0  Female   \n",
       "19     middle_aged                   0.232969     0.108534          0    Male   \n",
       "20     middle_aged                   0.000000     0.212424          0  Female   \n",
       "21     middle_aged                   0.061297     0.232578          0    Male   \n",
       "22           young                   0.000000     0.083983          0    Male   \n",
       "23     middle_aged                   1.000000     0.542104          0  Female   \n",
       "24          senior                   0.034098     0.804237          0  Female   \n",
       "25     middle_aged                   0.005142     0.277864          0  Female   \n",
       "26     middle_aged                   0.866541     0.844848          0    Male   \n",
       "27     middle_aged                   0.232553     0.467896          0  Female   \n",
       "28     middle_aged                   0.181776     0.168139          0    Male   \n",
       "29     middle_aged                   1.000000     0.000000          0  Female   \n",
       "...            ...                        ...          ...        ...     ...   \n",
       "44970  middle_aged                   0.390855     0.629898          0  Female   \n",
       "44971  middle_aged                   0.000000  1057.000000          0    Male   \n",
       "44972  middle_aged                   0.639272     0.622076          0  Female   \n",
       "44973        young                   0.012142     1.450430          0  Female   \n",
       "44974  middle_aged                   0.081216     0.335520          0  Female   \n",
       "44975        young                   0.728411     0.891460          0    Male   \n",
       "44976        young                   0.013318     0.122376          0  Female   \n",
       "44977  middle_aged                   0.372747     0.788602          0    Male   \n",
       "44978       senior                   1.000000     0.000000          0    Male   \n",
       "44979        young                   0.124295     0.569705          0    Male   \n",
       "44980  middle_aged                   0.002919     0.238269          1    Male   \n",
       "44981       senior                   0.024401  1631.000000          0  Female   \n",
       "44982        young                   0.000000     0.251763          0  Female   \n",
       "44983       senior                   0.106854     0.021433          0    Male   \n",
       "44984        young                   0.346337     0.554137          0    Male   \n",
       "44985  middle_aged                   0.843492     0.577304          0    Male   \n",
       "44986  middle_aged                   0.615545     0.263807          0    Male   \n",
       "44987  middle_aged                   0.737020     1.285165          0  Female   \n",
       "44988        young                   0.900332     0.192321          0    Male   \n",
       "44989       senior                   0.847820     0.211697          0  Female   \n",
       "44990  middle_aged                   0.109057     0.227150          0  Female   \n",
       "44991        young                   1.000000     0.000000          0  Female   \n",
       "44992  middle_aged                   0.175301   856.000000          0    Male   \n",
       "44993  middle_aged                   1.000000    69.000000          0  Female   \n",
       "44994        young                   0.531367     0.078652          0    Male   \n",
       "44995       senior                   0.477849     0.282233          0    Male   \n",
       "44996  middle_aged                   0.868603  1735.000000          0    Male   \n",
       "44997  middle_aged                   1.613969  1928.000000          1  Female   \n",
       "44998  middle_aged                   0.238856     0.092586          0    Male   \n",
       "44999  middle_aged                   0.263816     0.308347          0    Male   \n",
       "\n",
       "      marital_status  monthly_income  nb_dependents  nb_late_payments_1month  \\\n",
       "0            married     3558.000000            2.0                        0   \n",
       "1             single     6625.000000            0.0                        0   \n",
       "2           divorced     6675.478043            0.0                        0   \n",
       "3            married     6675.478043            0.0                        0   \n",
       "4            married     6675.478043            0.0                        0   \n",
       "5            married     5000.000000            0.0                        0   \n",
       "6            married     3530.000000            1.0                        0   \n",
       "7            married     3000.000000            0.0                        0   \n",
       "8             single     1000.000000            0.0                        1   \n",
       "9           divorced     3750.000000            0.0                        0   \n",
       "10            single    10500.000000            0.0                        0   \n",
       "11           married     6675.478043            2.0                        0   \n",
       "12           married     6675.478043            4.0                        0   \n",
       "13          divorced     5000.000000            0.0                        0   \n",
       "14           married     6675.478043            2.0                        0   \n",
       "15       unspecified    10250.000000            2.0                        0   \n",
       "16            single     2739.000000            0.0                        0   \n",
       "17           married     6675.478043            0.0                        0   \n",
       "18           married     4311.000000            0.0                        0   \n",
       "19       unspecified     5776.000000            1.0                        0   \n",
       "20           married     2800.000000            5.0                        0   \n",
       "21       unspecified     8250.000000            0.0                        0   \n",
       "22            single     5000.000000            0.0                        0   \n",
       "23           married    14000.000000            2.0                        0   \n",
       "24           married     2548.000000            0.0                        0   \n",
       "25           married     3875.000000            0.0                        0   \n",
       "26           married     2590.000000            0.0                        0   \n",
       "27            single     4500.000000            0.0                        1   \n",
       "28           married     6000.000000            1.0                        0   \n",
       "29            single     7250.000000            1.0                        0   \n",
       "...              ...             ...            ...                      ...   \n",
       "44970        married     6200.000000            1.0                        0   \n",
       "44971    unspecified     6675.478043            0.0                        0   \n",
       "44972        married     5000.000000            2.0                        0   \n",
       "44973        widowed     3600.000000            0.0                        0   \n",
       "44974         single     3200.000000            0.0                        0   \n",
       "44975        married     3500.000000            1.0                        0   \n",
       "44976        widowed     5049.000000            0.0                        0   \n",
       "44977        married     7000.000000            0.0                        0   \n",
       "44978        married     1996.000000            0.0                        0   \n",
       "44979        married     8700.000000            0.0                        0   \n",
       "44980        widowed     9333.000000            5.0                        4   \n",
       "44981        married     6675.478043            0.0                        0   \n",
       "44982       divorced     7800.000000            3.0                        0   \n",
       "44983        widowed     5178.000000            1.0                        0   \n",
       "44984        widowed     1800.000000            0.0                        0   \n",
       "44985        married     7075.000000            1.0                        0   \n",
       "44986         single     8600.000000            3.0                        0   \n",
       "44987       divorced     1300.000000            2.0                        1   \n",
       "44988         single     5833.000000            3.0                        0   \n",
       "44989       divorced     4000.000000            0.0                        0   \n",
       "44990         single     8500.000000            4.0                        0   \n",
       "44991        married     2900.000000            3.0                        0   \n",
       "44992       divorced     6675.478043            0.0                        0   \n",
       "44993        married     6675.478043            0.0                        0   \n",
       "44994       divorced      800.000000            0.0                        0   \n",
       "44995        widowed     4800.000000            0.0                        0   \n",
       "44996       divorced     6675.478043            0.0                        3   \n",
       "44997         single     6675.478043            3.0                        5   \n",
       "44998         single     5421.000000            0.0                        1   \n",
       "44999       divorced     5642.000000            2.0                        0   \n",
       "\n",
       "       nb_late_payments_2months  nb_late_payments_3+months  nb_open_loans  \\\n",
       "0                             0                          0              5   \n",
       "1                             0                          0              3   \n",
       "2                             0                          0              4   \n",
       "3                             0                          0              2   \n",
       "4                             0                          0              7   \n",
       "5                             0                          0              5   \n",
       "6                             0                          0              8   \n",
       "7                             0                          0              4   \n",
       "8                             0                          0              6   \n",
       "9                             0                          0             12   \n",
       "10                            0                          0             15   \n",
       "11                            0                          0              9   \n",
       "12                            0                          0              4   \n",
       "13                            0                          0              7   \n",
       "14                            1                          0             11   \n",
       "15                            0                          0             12   \n",
       "16                            0                          0              4   \n",
       "17                            0                          0              9   \n",
       "18                            0                          0              3   \n",
       "19                            0                          0              5   \n",
       "20                            0                          0              3   \n",
       "21                            0                          0              8   \n",
       "22                            0                          0              4   \n",
       "23                            0                          0              9   \n",
       "24                            0                          0             11   \n",
       "25                            0                          0              7   \n",
       "26                            0                          1             12   \n",
       "27                            0                          0              9   \n",
       "28                            1                          0             15   \n",
       "29                            0                          0              1   \n",
       "...                         ...                        ...            ...   \n",
       "44970                         1                          0             22   \n",
       "44971                         0                          0              7   \n",
       "44972                         0                          0              3   \n",
       "44973                         0                          0             11   \n",
       "44974                         0                          0              8   \n",
       "44975                         0                          0             11   \n",
       "44976                         0                          0              6   \n",
       "44977                         0                          0             16   \n",
       "44978                         0                          0              0   \n",
       "44979                         0                          0              8   \n",
       "44980                         0                          0              7   \n",
       "44981                         0                          0             18   \n",
       "44982                         0                          0              7   \n",
       "44983                         0                          0              6   \n",
       "44984                         0                          0              3   \n",
       "44985                         0                          0             15   \n",
       "44986                         0                          0              8   \n",
       "44987                         0                          0              9   \n",
       "44988                         0                          0              4   \n",
       "44989                         0                          0              8   \n",
       "44990                         0                          0              6   \n",
       "44991                         0                          1              0   \n",
       "44992                         0                          0              7   \n",
       "44993                         0                          1              0   \n",
       "44994                         0                          0              2   \n",
       "44995                         0                          0             12   \n",
       "44996                         1                          0             14   \n",
       "44997                         0                          1              5   \n",
       "44998                         0                          0             10   \n",
       "44999                         0                          0              7   \n",
       "\n",
       "       nb_special_loans  \n",
       "0                     0  \n",
       "1                     0  \n",
       "2                     0  \n",
       "3                     0  \n",
       "4                     0  \n",
       "5                     1  \n",
       "6                     2  \n",
       "7                     0  \n",
       "8                     0  \n",
       "9                     0  \n",
       "10                    0  \n",
       "11                    1  \n",
       "12                    1  \n",
       "13                    0  \n",
       "14                    2  \n",
       "15                    2  \n",
       "16                    0  \n",
       "17                    0  \n",
       "18                    0  \n",
       "19                    0  \n",
       "20                    0  \n",
       "21                    2  \n",
       "22                    0  \n",
       "23                    2  \n",
       "24                    1  \n",
       "25                    2  \n",
       "26                    1  \n",
       "27                    1  \n",
       "28                    0  \n",
       "29                    0  \n",
       "...                 ...  \n",
       "44970                 1  \n",
       "44971                 2  \n",
       "44972                 1  \n",
       "44973                 2  \n",
       "44974                 1  \n",
       "44975                 1  \n",
       "44976                 0  \n",
       "44977                 1  \n",
       "44978                 0  \n",
       "44979                 2  \n",
       "44980                 1  \n",
       "44981                 2  \n",
       "44982                 2  \n",
       "44983                 0  \n",
       "44984                 1  \n",
       "44985                 1  \n",
       "44986                 2  \n",
       "44987                 0  \n",
       "44988                 0  \n",
       "44989                 0  \n",
       "44990                 1  \n",
       "44991                 0  \n",
       "44992                 0  \n",
       "44993                 0  \n",
       "44994                 0  \n",
       "44995                 0  \n",
       "44996                 2  \n",
       "44997                 0  \n",
       "44998                 0  \n",
       "44999                 1  \n",
       "\n",
       "[45000 rows x 13 columns]"
      ]
     },
     "execution_count": 163,
     "metadata": {},
     "output_type": "execute_result"
    }
   ],
   "source": [
    "# Age attribute and ID are irrelenat to the task\n",
    "del df['age']\n",
    "del df['ID']\n",
    "df"
   ]
  },
  {
   "cell_type": "code",
   "execution_count": 164,
   "metadata": {},
   "outputs": [],
   "source": [
    "df.to_csv(\"bankloans-data-clean.csv\")"
   ]
  }
 ],
 "metadata": {
  "kernelspec": {
   "display_name": "Python 3",
   "language": "python",
   "name": "python3"
  },
  "language_info": {
   "codemirror_mode": {
    "name": "ipython",
    "version": 3
   },
   "file_extension": ".py",
   "mimetype": "text/x-python",
   "name": "python",
   "nbconvert_exporter": "python",
   "pygments_lexer": "ipython3",
   "version": "3.6.4"
  }
 },
 "nbformat": 4,
 "nbformat_minor": 2
}
