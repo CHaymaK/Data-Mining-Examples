{
 "cells": [
  {
   "cell_type": "code",
   "execution_count": 1,
   "metadata": {},
   "outputs": [],
   "source": [
    "import pandas as pd   \n",
    "import numpy as np    "
   ]
  },
  {
   "cell_type": "markdown",
   "metadata": {},
   "source": [
    "## Getting the data\n"
   ]
  },
  {
   "cell_type": "code",
   "execution_count": 3,
   "metadata": {},
   "outputs": [],
   "source": [
    "# Use the file you obtained at the end of Part1\n",
    "filepath = \"bankloans-data-clean.csv\""
   ]
  },
  {
   "cell_type": "code",
   "execution_count": 4,
   "metadata": {},
   "outputs": [],
   "source": [
    "# Read data from a CSV file : this will return a DataFrame object\n",
    "df = pd.read_csv(filepath)"
   ]
  },
  {
   "cell_type": "code",
   "execution_count": 5,
   "metadata": {},
   "outputs": [
    {
     "data": {
      "text/plain": [
       "(45000, 13)"
      ]
     },
     "execution_count": 5,
     "metadata": {},
     "output_type": "execute_result"
    }
   ],
   "source": [
    "# verify number of rows and columns in this DataFrame\n",
    "df.shape"
   ]
  },
  {
   "cell_type": "code",
   "execution_count": 6,
   "metadata": {},
   "outputs": [
    {
     "data": {
      "text/html": [
       "<div>\n",
       "<style scoped>\n",
       "    .dataframe tbody tr th:only-of-type {\n",
       "        vertical-align: middle;\n",
       "    }\n",
       "\n",
       "    .dataframe tbody tr th {\n",
       "        vertical-align: top;\n",
       "    }\n",
       "\n",
       "    .dataframe thead th {\n",
       "        text-align: right;\n",
       "    }\n",
       "</style>\n",
       "<table border=\"1\" class=\"dataframe\">\n",
       "  <thead>\n",
       "    <tr style=\"text-align: right;\">\n",
       "      <th></th>\n",
       "      <th>age_group</th>\n",
       "      <th>credit_card_balance_ratio</th>\n",
       "      <th>debt_ratio</th>\n",
       "      <th>defaulted</th>\n",
       "      <th>gender</th>\n",
       "      <th>marital_status</th>\n",
       "      <th>monthly_income</th>\n",
       "      <th>nb_dependents</th>\n",
       "      <th>nb_late_payments_1month</th>\n",
       "      <th>nb_late_payments_2months</th>\n",
       "      <th>nb_late_payments_3+months</th>\n",
       "      <th>nb_open_loans</th>\n",
       "      <th>nb_special_loans</th>\n",
       "    </tr>\n",
       "  </thead>\n",
       "  <tbody>\n",
       "    <tr>\n",
       "      <th>0</th>\n",
       "      <td>middle_aged</td>\n",
       "      <td>0.011639</td>\n",
       "      <td>0.053386</td>\n",
       "      <td>1</td>\n",
       "      <td>Male</td>\n",
       "      <td>married</td>\n",
       "      <td>3558.000000</td>\n",
       "      <td>2.0</td>\n",
       "      <td>0</td>\n",
       "      <td>0</td>\n",
       "      <td>0</td>\n",
       "      <td>5</td>\n",
       "      <td>0</td>\n",
       "    </tr>\n",
       "    <tr>\n",
       "      <th>1</th>\n",
       "      <td>young</td>\n",
       "      <td>0.031554</td>\n",
       "      <td>0.032146</td>\n",
       "      <td>0</td>\n",
       "      <td>Female</td>\n",
       "      <td>single</td>\n",
       "      <td>6625.000000</td>\n",
       "      <td>0.0</td>\n",
       "      <td>0</td>\n",
       "      <td>0</td>\n",
       "      <td>0</td>\n",
       "      <td>3</td>\n",
       "      <td>0</td>\n",
       "    </tr>\n",
       "    <tr>\n",
       "      <th>2</th>\n",
       "      <td>senior</td>\n",
       "      <td>1.000000</td>\n",
       "      <td>1.000000</td>\n",
       "      <td>0</td>\n",
       "      <td>Male</td>\n",
       "      <td>divorced</td>\n",
       "      <td>6675.478043</td>\n",
       "      <td>0.0</td>\n",
       "      <td>0</td>\n",
       "      <td>0</td>\n",
       "      <td>0</td>\n",
       "      <td>4</td>\n",
       "      <td>0</td>\n",
       "    </tr>\n",
       "    <tr>\n",
       "      <th>3</th>\n",
       "      <td>young</td>\n",
       "      <td>0.006666</td>\n",
       "      <td>4.000000</td>\n",
       "      <td>0</td>\n",
       "      <td>Male</td>\n",
       "      <td>married</td>\n",
       "      <td>6675.478043</td>\n",
       "      <td>0.0</td>\n",
       "      <td>0</td>\n",
       "      <td>0</td>\n",
       "      <td>0</td>\n",
       "      <td>2</td>\n",
       "      <td>0</td>\n",
       "    </tr>\n",
       "    <tr>\n",
       "      <th>4</th>\n",
       "      <td>young</td>\n",
       "      <td>0.097509</td>\n",
       "      <td>68.000000</td>\n",
       "      <td>0</td>\n",
       "      <td>Female</td>\n",
       "      <td>married</td>\n",
       "      <td>6675.478043</td>\n",
       "      <td>0.0</td>\n",
       "      <td>0</td>\n",
       "      <td>0</td>\n",
       "      <td>0</td>\n",
       "      <td>7</td>\n",
       "      <td>0</td>\n",
       "    </tr>\n",
       "  </tbody>\n",
       "</table>\n",
       "</div>"
      ],
      "text/plain": [
       "     age_group  credit_card_balance_ratio  debt_ratio  defaulted  gender  \\\n",
       "0  middle_aged                   0.011639    0.053386          1    Male   \n",
       "1        young                   0.031554    0.032146          0  Female   \n",
       "2       senior                   1.000000    1.000000          0    Male   \n",
       "3        young                   0.006666    4.000000          0    Male   \n",
       "4        young                   0.097509   68.000000          0  Female   \n",
       "\n",
       "  marital_status  monthly_income  nb_dependents  nb_late_payments_1month  \\\n",
       "0        married     3558.000000            2.0                        0   \n",
       "1         single     6625.000000            0.0                        0   \n",
       "2       divorced     6675.478043            0.0                        0   \n",
       "3        married     6675.478043            0.0                        0   \n",
       "4        married     6675.478043            0.0                        0   \n",
       "\n",
       "   nb_late_payments_2months  nb_late_payments_3+months  nb_open_loans  \\\n",
       "0                         0                          0              5   \n",
       "1                         0                          0              3   \n",
       "2                         0                          0              4   \n",
       "3                         0                          0              2   \n",
       "4                         0                          0              7   \n",
       "\n",
       "   nb_special_loans  \n",
       "0                 0  \n",
       "1                 0  \n",
       "2                 0  \n",
       "3                 0  \n",
       "4                 0  "
      ]
     },
     "execution_count": 6,
     "metadata": {},
     "output_type": "execute_result"
    }
   ],
   "source": [
    "# display first few rows in this DataFrame\n",
    "df.head()"
   ]
  },
  {
   "cell_type": "code",
   "execution_count": 7,
   "metadata": {},
   "outputs": [
    {
     "data": {
      "text/plain": [
       "Index(['age_group', 'credit_card_balance_ratio', 'debt_ratio', 'defaulted',\n",
       "       'gender', 'marital_status', 'monthly_income', 'nb_dependents',\n",
       "       'nb_late_payments_1month', 'nb_late_payments_2months',\n",
       "       'nb_late_payments_3+months', 'nb_open_loans', 'nb_special_loans'],\n",
       "      dtype='object')"
      ]
     },
     "execution_count": 7,
     "metadata": {},
     "output_type": "execute_result"
    }
   ],
   "source": [
    "# check list of column names\n",
    "df.columns"
   ]
  },
  {
   "cell_type": "code",
   "execution_count": 8,
   "metadata": {},
   "outputs": [
    {
     "data": {
      "text/html": [
       "<div>\n",
       "<style scoped>\n",
       "    .dataframe tbody tr th:only-of-type {\n",
       "        vertical-align: middle;\n",
       "    }\n",
       "\n",
       "    .dataframe tbody tr th {\n",
       "        vertical-align: top;\n",
       "    }\n",
       "\n",
       "    .dataframe thead th {\n",
       "        text-align: right;\n",
       "    }\n",
       "</style>\n",
       "<table border=\"1\" class=\"dataframe\">\n",
       "  <thead>\n",
       "    <tr style=\"text-align: right;\">\n",
       "      <th></th>\n",
       "      <th>credit_card_balance_ratio</th>\n",
       "      <th>debt_ratio</th>\n",
       "      <th>defaulted</th>\n",
       "      <th>monthly_income</th>\n",
       "      <th>nb_dependents</th>\n",
       "      <th>nb_late_payments_1month</th>\n",
       "      <th>nb_late_payments_2months</th>\n",
       "      <th>nb_late_payments_3+months</th>\n",
       "      <th>nb_open_loans</th>\n",
       "      <th>nb_special_loans</th>\n",
       "    </tr>\n",
       "  </thead>\n",
       "  <tbody>\n",
       "    <tr>\n",
       "      <th>count</th>\n",
       "      <td>45000.000000</td>\n",
       "      <td>45000.000000</td>\n",
       "      <td>45000.000000</td>\n",
       "      <td>4.500000e+04</td>\n",
       "      <td>45000.000000</td>\n",
       "      <td>45000.000000</td>\n",
       "      <td>45000.000000</td>\n",
       "      <td>45000.000000</td>\n",
       "      <td>45000.000000</td>\n",
       "      <td>45000.000000</td>\n",
       "    </tr>\n",
       "    <tr>\n",
       "      <th>mean</th>\n",
       "      <td>5.692377</td>\n",
       "      <td>366.114262</td>\n",
       "      <td>0.066022</td>\n",
       "      <td>6.675478e+03</td>\n",
       "      <td>0.760629</td>\n",
       "      <td>0.416289</td>\n",
       "      <td>0.232911</td>\n",
       "      <td>0.261356</td>\n",
       "      <td>8.436133</td>\n",
       "      <td>1.024778</td>\n",
       "    </tr>\n",
       "    <tr>\n",
       "      <th>std</th>\n",
       "      <td>208.062208</td>\n",
       "      <td>2504.362003</td>\n",
       "      <td>0.248324</td>\n",
       "      <td>1.215258e+04</td>\n",
       "      <td>1.104898</td>\n",
       "      <td>4.100654</td>\n",
       "      <td>4.060182</td>\n",
       "      <td>4.076032</td>\n",
       "      <td>5.131408</td>\n",
       "      <td>1.124936</td>\n",
       "    </tr>\n",
       "    <tr>\n",
       "      <th>min</th>\n",
       "      <td>0.000000</td>\n",
       "      <td>0.000000</td>\n",
       "      <td>0.000000</td>\n",
       "      <td>0.000000e+00</td>\n",
       "      <td>0.000000</td>\n",
       "      <td>0.000000</td>\n",
       "      <td>0.000000</td>\n",
       "      <td>0.000000</td>\n",
       "      <td>0.000000</td>\n",
       "      <td>0.000000</td>\n",
       "    </tr>\n",
       "    <tr>\n",
       "      <th>25%</th>\n",
       "      <td>0.030024</td>\n",
       "      <td>0.176616</td>\n",
       "      <td>0.000000</td>\n",
       "      <td>3.900000e+03</td>\n",
       "      <td>0.000000</td>\n",
       "      <td>0.000000</td>\n",
       "      <td>0.000000</td>\n",
       "      <td>0.000000</td>\n",
       "      <td>5.000000</td>\n",
       "      <td>0.000000</td>\n",
       "    </tr>\n",
       "    <tr>\n",
       "      <th>50%</th>\n",
       "      <td>0.150540</td>\n",
       "      <td>0.367925</td>\n",
       "      <td>0.000000</td>\n",
       "      <td>6.590500e+03</td>\n",
       "      <td>0.000000</td>\n",
       "      <td>0.000000</td>\n",
       "      <td>0.000000</td>\n",
       "      <td>0.000000</td>\n",
       "      <td>8.000000</td>\n",
       "      <td>1.000000</td>\n",
       "    </tr>\n",
       "    <tr>\n",
       "      <th>75%</th>\n",
       "      <td>0.557938</td>\n",
       "      <td>0.889774</td>\n",
       "      <td>0.000000</td>\n",
       "      <td>7.333000e+03</td>\n",
       "      <td>1.000000</td>\n",
       "      <td>0.000000</td>\n",
       "      <td>0.000000</td>\n",
       "      <td>0.000000</td>\n",
       "      <td>11.000000</td>\n",
       "      <td>2.000000</td>\n",
       "    </tr>\n",
       "    <tr>\n",
       "      <th>max</th>\n",
       "      <td>22198.000000</td>\n",
       "      <td>329664.000000</td>\n",
       "      <td>1.000000</td>\n",
       "      <td>1.794060e+06</td>\n",
       "      <td>20.000000</td>\n",
       "      <td>98.000000</td>\n",
       "      <td>98.000000</td>\n",
       "      <td>98.000000</td>\n",
       "      <td>52.000000</td>\n",
       "      <td>25.000000</td>\n",
       "    </tr>\n",
       "  </tbody>\n",
       "</table>\n",
       "</div>"
      ],
      "text/plain": [
       "       credit_card_balance_ratio     debt_ratio     defaulted  monthly_income  \\\n",
       "count               45000.000000   45000.000000  45000.000000    4.500000e+04   \n",
       "mean                    5.692377     366.114262      0.066022    6.675478e+03   \n",
       "std                   208.062208    2504.362003      0.248324    1.215258e+04   \n",
       "min                     0.000000       0.000000      0.000000    0.000000e+00   \n",
       "25%                     0.030024       0.176616      0.000000    3.900000e+03   \n",
       "50%                     0.150540       0.367925      0.000000    6.590500e+03   \n",
       "75%                     0.557938       0.889774      0.000000    7.333000e+03   \n",
       "max                 22198.000000  329664.000000      1.000000    1.794060e+06   \n",
       "\n",
       "       nb_dependents  nb_late_payments_1month  nb_late_payments_2months  \\\n",
       "count   45000.000000             45000.000000              45000.000000   \n",
       "mean        0.760629                 0.416289                  0.232911   \n",
       "std         1.104898                 4.100654                  4.060182   \n",
       "min         0.000000                 0.000000                  0.000000   \n",
       "25%         0.000000                 0.000000                  0.000000   \n",
       "50%         0.000000                 0.000000                  0.000000   \n",
       "75%         1.000000                 0.000000                  0.000000   \n",
       "max        20.000000                98.000000                 98.000000   \n",
       "\n",
       "       nb_late_payments_3+months  nb_open_loans  nb_special_loans  \n",
       "count               45000.000000   45000.000000      45000.000000  \n",
       "mean                    0.261356       8.436133          1.024778  \n",
       "std                     4.076032       5.131408          1.124936  \n",
       "min                     0.000000       0.000000          0.000000  \n",
       "25%                     0.000000       5.000000          0.000000  \n",
       "50%                     0.000000       8.000000          1.000000  \n",
       "75%                     0.000000      11.000000          2.000000  \n",
       "max                    98.000000      52.000000         25.000000  "
      ]
     },
     "execution_count": 8,
     "metadata": {},
     "output_type": "execute_result"
    }
   ],
   "source": [
    "# check global statistics of each attribute (including missing values)\n",
    "df.describe()"
   ]
  },
  {
   "cell_type": "markdown",
   "metadata": {},
   "source": [
    "## Data transformation\n",
    "\n",
    "\n"
   ]
  },
  {
   "cell_type": "code",
   "execution_count": 9,
   "metadata": {},
   "outputs": [
    {
     "data": {
      "text/plain": [
       "Index(['age_group', 'credit_card_balance_ratio', 'debt_ratio', 'defaulted',\n",
       "       'gender', 'marital_status', 'monthly_income', 'nb_dependents',\n",
       "       'nb_late_payments_1month', 'nb_late_payments_2months',\n",
       "       'nb_late_payments_3months', 'nb_open_loans', 'nb_special_loans'],\n",
       "      dtype='object')"
      ]
     },
     "execution_count": 9,
     "metadata": {},
     "output_type": "execute_result"
    }
   ],
   "source": [
    "# Apply min-max normalization on all numeric attributes. Put the resut in a new data frame.\n",
    "df.rename(columns={'nb_late_payments_3+months': 'nb_late_payments_3months'}, inplace=True)\n",
    "from sklearn import preprocessing\n",
    "df1=df\n",
    "\n",
    "columns_to_normalize = ['credit_card_balance_ratio', 'debt_ratio','monthly_income', 'nb_dependents', 'monthly_income',\n",
    "              'nb_late_payments_1month','nb_late_payments_2months','nb_late_payments_3months','nb_open_loans',\n",
    "              'nb_special_loans']\n",
    "x = df1[columns_to_normalize].values\n",
    "min_max_scaler = preprocessing.MinMaxScaler()\n",
    "x_scaled = min_max_scaler.fit_transform(x)\n",
    "df_temp = pd.DataFrame(x_scaled, columns=columns_to_normalize, index = df1.index)\n",
    "df1[columns_to_normalize] = df_temp\n",
    "df1.columns\n"
   ]
  },
  {
   "cell_type": "code",
   "execution_count": 11,
   "metadata": {
    "scrolled": false
   },
   "outputs": [
    {
     "data": {
      "text/plain": [
       "<matplotlib.axes._subplots.AxesSubplot at 0x1a1719e1d0>"
      ]
     },
     "execution_count": 11,
     "metadata": {},
     "output_type": "execute_result"
    },
    {
     "data": {
      "image/png": "[encoded data removed]",
      "text/plain": [
       "<matplotlib.figure.Figure at 0x1a17042898>"
      ]
     },
     "metadata": {},
     "output_type": "display_data"
    }
   ],
   "source": [
    "df1['monthly_income'].plot(kind='hist')"
   ]
  },
  {
   "cell_type": "code",
   "execution_count": 12,
   "metadata": {
    "scrolled": true
   },
   "outputs": [
    {
     "data": {
      "text/plain": [
       "<matplotlib.axes._subplots.AxesSubplot at 0x1a17042fd0>"
      ]
     },
     "execution_count": 12,
     "metadata": {},
     "output_type": "execute_result"
    },
    {
     "data": {
      "image/png": "[encoded data removed]",
      "text/plain": [
       "<matplotlib.figure.Figure at 0x1a171a7550>"
      ]
     },
     "metadata": {},
     "output_type": "display_data"
    }
   ],
   "source": [
    "from scipy import stats\n",
    "df2=df\n",
    "columns_to_normalize = ['credit_card_balance_ratio', 'debt_ratio','monthly_income', 'nb_dependents', 'monthly_income',\n",
    "              'nb_late_payments_1month','nb_late_payments_2months','nb_late_payments_3months','nb_open_loans',\n",
    "              'nb_special_loans']\n",
    "df2[columns_to_normalize].apply(stats.zscore)\n",
    "df2['monthly_income'].plot(kind='hist')\n",
    "\n"
   ]
  },
  {
   "cell_type": "code",
   "execution_count": 14,
   "metadata": {},
   "outputs": [],
   "source": [
    "#Apply one-hot encoding on all categorical attributes. \n",
    "#Put result in a new data frame that contains only numeric attributes.  \n",
    "# do one hot encoding for the age_group\n",
    "df3 = pd.DataFrame({'age_group': [' young', 'middle_aged', 'senior_citizen']})\n",
    "df3 = pd.concat([df3,pd.get_dummies(df3['age_group'], prefix='age_group')],axis=1)\n",
    "df3.drop(['age_group'],axis=1, inplace=True)\n",
    "#By default, the get_dummies() does not do dummy encoding, but one-hot encoding.\n",
    "df3.head()\n",
    "# do one hot encoding for the gender\n",
    "df4 = pd.DataFrame({'gender': [' Male', 'Female']})\n",
    "df4 = pd.concat([df4,pd.get_dummies(df4['gender'], prefix='gender')],axis=1)\n",
    "df4.drop(['gender'],axis=1, inplace=True)\n",
    "df4.head()\n",
    "# do one hot e,coding for the marital status\n",
    "df5 = pd.DataFrame({'marital_status': ['single', 'married', 'divorced', 'widowed']})\n",
    "df5 = pd.concat([df5,pd.get_dummies(df5['marital_status'], prefix='marital_status')],axis=1)\n",
    "df5.drop(['marital_status'],axis=1, inplace=True)\n",
    "df5.head()\n",
    "frames = [df3, df4, df5]\n",
    "new_frames = pd.concat(frames) "
   ]
  },
  {
   "cell_type": "code",
   "execution_count": 15,
   "metadata": {
    "scrolled": true
   },
   "outputs": [
    {
     "data": {
      "image/png": "[encoded data removed]",
      "text/plain": [
       "<matplotlib.figure.Figure at 0x1145c92b0>"
      ]
     },
     "metadata": {},
     "output_type": "display_data"
    }
   ],
   "source": [
    "# Apply log transformation on monthly_income. Put result after transformation in a new data frame.\n",
    "mask = df.monthly_income>0\n",
    "df6=pd.Series(np.log10(df.monthly_income[mask])).plot(kind='hist') #SAme before normalizing "
   ]
  }
 ],
 "metadata": {
  "kernelspec": {
   "display_name": "Python 3",
   "language": "python",
   "name": "python3"
  },
  "language_info": {
   "codemirror_mode": {
    "name": "ipython",
    "version": 3
   },
   "file_extension": ".py",
   "mimetype": "text/x-python",
   "name": "python",
   "nbconvert_exporter": "python",
   "pygments_lexer": "ipython3",
   "version": "3.6.4"
  }
 },
 "nbformat": 4,
 "nbformat_minor": 2
}
